{
  "nbformat": 4,
  "nbformat_minor": 0,
  "metadata": {
    "colab": {
      "name": "Covid 19 Face Mask Detection.ipynb",
      "provenance": [],
      "collapsed_sections": []
    },
    "kernelspec": {
      "name": "python3",
      "display_name": "Python 3"
    },
    "accelerator": "GPU"
  },
  "cells": [
    {
      "cell_type": "code",
      "metadata": {
        "id": "AnLcktyV0XCw"
      },
      "source": [
        "from tensorflow.keras.models import Sequential\r\n",
        "from tensorflow.keras.layers import Conv2D, MaxPooling2D, Dropout, Flatten, Dense\r\n",
        "from tensorflow.keras.optimizers import Adam\r\n",
        "from tensorflow.keras.preprocessing.image import ImageDataGenerator\r\n",
        "import numpy as np\r\n",
        "import matplotlib.pyplot as plt\r\n",
        "import matplotlib.image as mpimg"
      ],
      "execution_count": 1,
      "outputs": []
    },
    {
      "cell_type": "code",
      "metadata": {
        "id": "Rv-Ywni10oxY"
      },
      "source": [
        "import os\r\n",
        "os.environ['KAGGLE_USERNAME']= 'kshitijpandey22'\r\n",
        "os.environ['KAGGLE_KEY']= '137378613efdf325c005cea4a8264935'"
      ],
      "execution_count": 2,
      "outputs": []
    },
    {
      "cell_type": "code",
      "metadata": {
        "colab": {
          "base_uri": "https://localhost:8080/"
        },
        "id": "-iPv16be0ryU",
        "outputId": "e54642bd-c579-46d2-9bb5-8885ccda1e2a"
      },
      "source": [
        "!kaggle datasets download -d prithwirajmitra/covid-face-mask-detection-dataset"
      ],
      "execution_count": 3,
      "outputs": [
        {
          "output_type": "stream",
          "text": [
            "Downloading covid-face-mask-detection-dataset.zip to /content\n",
            " 92% 190M/207M [00:01<00:00, 111MB/s]\n",
            "100% 207M/207M [00:01<00:00, 115MB/s]\n"
          ],
          "name": "stdout"
        }
      ]
    },
    {
      "cell_type": "code",
      "metadata": {
        "colab": {
          "base_uri": "https://localhost:8080/"
        },
        "id": "yzM8Fd850uLJ",
        "outputId": "c05eae32-5a49-4b74-96a4-e3dedb0a5578"
      },
      "source": [
        "!unzip covid-face-mask-detection-dataset.zip"
      ],
      "execution_count": 4,
      "outputs": [
        {
          "output_type": "stream",
          "text": [
            "Archive:  covid-face-mask-detection-dataset.zip\n",
            "  inflating: New Masks Dataset/Test/Mask/2070.jpg  \n",
            "  inflating: New Masks Dataset/Test/Mask/2072.jpg  \n",
            "  inflating: New Masks Dataset/Test/Mask/2083.jpg  \n",
            "  inflating: New Masks Dataset/Test/Mask/2085.jpg  \n",
            "  inflating: New Masks Dataset/Test/Mask/2086.jpg  \n",
            "  inflating: New Masks Dataset/Test/Mask/2110.jpg  \n",
            "  inflating: New Masks Dataset/Test/Mask/2113.jpg  \n",
            "  inflating: New Masks Dataset/Test/Mask/2114.jpeg  \n",
            "  inflating: New Masks Dataset/Test/Mask/2130.jpg  \n",
            "  inflating: New Masks Dataset/Test/Mask/2132.jpg  \n",
            "  inflating: New Masks Dataset/Test/Mask/2135.jpg  \n",
            "  inflating: New Masks Dataset/Test/Mask/2154.png  \n",
            "  inflating: New Masks Dataset/Test/Mask/2158.png  \n",
            "  inflating: New Masks Dataset/Test/Mask/2159.png  \n",
            "  inflating: New Masks Dataset/Test/Mask/2160.png  \n",
            "  inflating: New Masks Dataset/Test/Mask/2170.png  \n",
            "  inflating: New Masks Dataset/Test/Mask/2172.png  \n",
            "  inflating: New Masks Dataset/Test/Mask/2173.png  \n",
            "  inflating: New Masks Dataset/Test/Mask/2174.png  \n",
            "  inflating: New Masks Dataset/Test/Mask/2175.png  \n",
            "  inflating: New Masks Dataset/Test/Mask/2176.png  \n",
            "  inflating: New Masks Dataset/Test/Mask/2178.png  \n",
            "  inflating: New Masks Dataset/Test/Mask/2179.png  \n",
            "  inflating: New Masks Dataset/Test/Mask/2182.png  \n",
            "  inflating: New Masks Dataset/Test/Mask/2187.png  \n",
            "  inflating: New Masks Dataset/Test/Mask/2188.png  \n",
            "  inflating: New Masks Dataset/Test/Mask/2190.png  \n",
            "  inflating: New Masks Dataset/Test/Mask/2191.png  \n",
            "  inflating: New Masks Dataset/Test/Mask/2203.png  \n",
            "  inflating: New Masks Dataset/Test/Mask/2205.png  \n",
            "  inflating: New Masks Dataset/Test/Mask/2212.png  \n",
            "  inflating: New Masks Dataset/Test/Mask/2215.png  \n",
            "  inflating: New Masks Dataset/Test/Mask/2222.png  \n",
            "  inflating: New Masks Dataset/Test/Mask/2225.png  \n",
            "  inflating: New Masks Dataset/Test/Mask/2236.png  \n",
            "  inflating: New Masks Dataset/Test/Mask/2245.png  \n",
            "  inflating: New Masks Dataset/Test/Mask/2250.png  \n",
            "  inflating: New Masks Dataset/Test/Mask/2251.png  \n",
            "  inflating: New Masks Dataset/Test/Mask/2252.png  \n",
            "  inflating: New Masks Dataset/Test/Mask/2254.png  \n",
            "  inflating: New Masks Dataset/Test/Mask/2257.png  \n",
            "  inflating: New Masks Dataset/Test/Mask/2260.png  \n",
            "  inflating: New Masks Dataset/Test/Mask/2263.png  \n",
            "  inflating: New Masks Dataset/Test/Mask/2264.png  \n",
            "  inflating: New Masks Dataset/Test/Mask/2265.png  \n",
            "  inflating: New Masks Dataset/Test/Mask/2267.png  \n",
            "  inflating: New Masks Dataset/Test/Mask/2268.png  \n",
            "  inflating: New Masks Dataset/Test/Mask/2271.png  \n",
            "  inflating: New Masks Dataset/Test/Mask/2283.png  \n",
            "  inflating: New Masks Dataset/Test/Mask/2300.png  \n",
            "  inflating: New Masks Dataset/Test/Non Mask/real_01032.jpg  \n",
            "  inflating: New Masks Dataset/Test/Non Mask/real_01033.jpg  \n",
            "  inflating: New Masks Dataset/Test/Non Mask/real_01034.jpg  \n",
            "  inflating: New Masks Dataset/Test/Non Mask/real_01035.jpg  \n",
            "  inflating: New Masks Dataset/Test/Non Mask/real_01036.jpg  \n",
            "  inflating: New Masks Dataset/Test/Non Mask/real_01037.jpg  \n",
            "  inflating: New Masks Dataset/Test/Non Mask/real_01038.jpg  \n",
            "  inflating: New Masks Dataset/Test/Non Mask/real_01039.jpg  \n",
            "  inflating: New Masks Dataset/Test/Non Mask/real_01040.jpg  \n",
            "  inflating: New Masks Dataset/Test/Non Mask/real_01041.jpg  \n",
            "  inflating: New Masks Dataset/Test/Non Mask/real_01042.jpg  \n",
            "  inflating: New Masks Dataset/Test/Non Mask/real_01043.jpg  \n",
            "  inflating: New Masks Dataset/Test/Non Mask/real_01044.jpg  \n",
            "  inflating: New Masks Dataset/Test/Non Mask/real_01045.jpg  \n",
            "  inflating: New Masks Dataset/Test/Non Mask/real_01046.jpg  \n",
            "  inflating: New Masks Dataset/Test/Non Mask/real_01047.jpg  \n",
            "  inflating: New Masks Dataset/Test/Non Mask/real_01048.jpg  \n",
            "  inflating: New Masks Dataset/Test/Non Mask/real_01049.jpg  \n",
            "  inflating: New Masks Dataset/Test/Non Mask/real_01050.jpg  \n",
            "  inflating: New Masks Dataset/Test/Non Mask/real_01051.jpg  \n",
            "  inflating: New Masks Dataset/Test/Non Mask/real_01052.jpg  \n",
            "  inflating: New Masks Dataset/Test/Non Mask/real_01053.jpg  \n",
            "  inflating: New Masks Dataset/Test/Non Mask/real_01054.jpg  \n",
            "  inflating: New Masks Dataset/Test/Non Mask/real_01055.jpg  \n",
            "  inflating: New Masks Dataset/Test/Non Mask/real_01056.jpg  \n",
            "  inflating: New Masks Dataset/Test/Non Mask/real_01057.jpg  \n",
            "  inflating: New Masks Dataset/Test/Non Mask/real_01058.jpg  \n",
            "  inflating: New Masks Dataset/Test/Non Mask/real_01059.jpg  \n",
            "  inflating: New Masks Dataset/Test/Non Mask/real_01060.jpg  \n",
            "  inflating: New Masks Dataset/Test/Non Mask/real_01061.jpg  \n",
            "  inflating: New Masks Dataset/Test/Non Mask/real_01062.jpg  \n",
            "  inflating: New Masks Dataset/Test/Non Mask/real_01063.jpg  \n",
            "  inflating: New Masks Dataset/Test/Non Mask/real_01064.jpg  \n",
            "  inflating: New Masks Dataset/Test/Non Mask/real_01065.jpg  \n",
            "  inflating: New Masks Dataset/Test/Non Mask/real_01066.jpg  \n",
            "  inflating: New Masks Dataset/Test/Non Mask/real_01067.jpg  \n",
            "  inflating: New Masks Dataset/Test/Non Mask/real_01068.jpg  \n",
            "  inflating: New Masks Dataset/Test/Non Mask/real_01069.jpg  \n",
            "  inflating: New Masks Dataset/Test/Non Mask/real_01070.jpg  \n",
            "  inflating: New Masks Dataset/Test/Non Mask/real_01071.jpg  \n",
            "  inflating: New Masks Dataset/Test/Non Mask/real_01072.jpg  \n",
            "  inflating: New Masks Dataset/Test/Non Mask/real_01073.jpg  \n",
            "  inflating: New Masks Dataset/Test/Non Mask/real_01074.jpg  \n",
            "  inflating: New Masks Dataset/Test/Non Mask/real_01075.jpg  \n",
            "  inflating: New Masks Dataset/Test/Non Mask/real_01076.jpg  \n",
            "  inflating: New Masks Dataset/Test/Non Mask/real_01077.jpg  \n",
            "  inflating: New Masks Dataset/Test/Non Mask/real_01078.jpg  \n",
            "  inflating: New Masks Dataset/Test/Non Mask/real_01079.jpg  \n",
            "  inflating: New Masks Dataset/Test/Non Mask/real_01080.jpg  \n",
            "  inflating: New Masks Dataset/Test/Non Mask/real_01081.jpg  \n",
            "  inflating: New Masks Dataset/Train/Mask/0003.jpg  \n",
            "  inflating: New Masks Dataset/Train/Mask/0006.jpg  \n",
            "  inflating: New Masks Dataset/Train/Mask/0018.jpg  \n",
            "  inflating: New Masks Dataset/Train/Mask/0019.jpg  \n",
            "  inflating: New Masks Dataset/Train/Mask/0022.jpg  \n",
            "  inflating: New Masks Dataset/Train/Mask/0027.jpg  \n",
            "  inflating: New Masks Dataset/Train/Mask/0029.jpg  \n",
            "  inflating: New Masks Dataset/Train/Mask/0037.jpg  \n",
            "  inflating: New Masks Dataset/Train/Mask/0040.jpg  \n",
            "  inflating: New Masks Dataset/Train/Mask/0042.jpg  \n",
            "  inflating: New Masks Dataset/Train/Mask/0043.jpg  \n",
            "  inflating: New Masks Dataset/Train/Mask/0048.jpg  \n",
            "  inflating: New Masks Dataset/Train/Mask/0055.jpg  \n",
            "  inflating: New Masks Dataset/Train/Mask/0063.jpg  \n",
            "  inflating: New Masks Dataset/Train/Mask/0066.jpg  \n",
            "  inflating: New Masks Dataset/Train/Mask/0091.jpg  \n",
            "  inflating: New Masks Dataset/Train/Mask/0097.png  \n",
            "  inflating: New Masks Dataset/Train/Mask/0110.jpg  \n",
            "  inflating: New Masks Dataset/Train/Mask/0112.png  \n",
            "  inflating: New Masks Dataset/Train/Mask/0113.jpg  \n",
            "  inflating: New Masks Dataset/Train/Mask/0115.jpg  \n",
            "  inflating: New Masks Dataset/Train/Mask/0116.png  \n",
            "  inflating: New Masks Dataset/Train/Mask/0121.png  \n",
            "  inflating: New Masks Dataset/Train/Mask/0125.jpeg  \n",
            "  inflating: New Masks Dataset/Train/Mask/0126.jpg  \n",
            "  inflating: New Masks Dataset/Train/Mask/0127.jpg  \n",
            "  inflating: New Masks Dataset/Train/Mask/0128.png  \n",
            "  inflating: New Masks Dataset/Train/Mask/0129.png  \n",
            "  inflating: New Masks Dataset/Train/Mask/0150.jpg  \n",
            "  inflating: New Masks Dataset/Train/Mask/0153.jpg  \n",
            "  inflating: New Masks Dataset/Train/Mask/0158.jpg  \n",
            "  inflating: New Masks Dataset/Train/Mask/0160.jpg  \n",
            "  inflating: New Masks Dataset/Train/Mask/0161.jpg  \n",
            "  inflating: New Masks Dataset/Train/Mask/0166.jpg  \n",
            "  inflating: New Masks Dataset/Train/Mask/0168.png  \n",
            "  inflating: New Masks Dataset/Train/Mask/0170.jpg  \n",
            "  inflating: New Masks Dataset/Train/Mask/0171.jpg  \n",
            "  inflating: New Masks Dataset/Train/Mask/0188.jpg  \n",
            "  inflating: New Masks Dataset/Train/Mask/0190.jpg  \n",
            "  inflating: New Masks Dataset/Train/Mask/0197.png  \n",
            "  inflating: New Masks Dataset/Train/Mask/0198.jpg  \n",
            "  inflating: New Masks Dataset/Train/Mask/0200.jpg  \n",
            "  inflating: New Masks Dataset/Train/Mask/0201.jpg  \n",
            "  inflating: New Masks Dataset/Train/Mask/0202.jpg  \n",
            "  inflating: New Masks Dataset/Train/Mask/0205.jpg  \n",
            "  inflating: New Masks Dataset/Train/Mask/0211.jpg  \n",
            "  inflating: New Masks Dataset/Train/Mask/0212.jpg  \n",
            "  inflating: New Masks Dataset/Train/Mask/0216.jpg  \n",
            "  inflating: New Masks Dataset/Train/Mask/0220.jpg  \n",
            "  inflating: New Masks Dataset/Train/Mask/0241.jpg  \n",
            "  inflating: New Masks Dataset/Train/Mask/0243.jpg  \n",
            "  inflating: New Masks Dataset/Train/Mask/0247.jpg  \n",
            "  inflating: New Masks Dataset/Train/Mask/0249.jpg  \n",
            "  inflating: New Masks Dataset/Train/Mask/0250.png  \n",
            "  inflating: New Masks Dataset/Train/Mask/0257.jpg  \n",
            "  inflating: New Masks Dataset/Train/Mask/0267.jpg  \n",
            "  inflating: New Masks Dataset/Train/Mask/0269.jpg  \n",
            "  inflating: New Masks Dataset/Train/Mask/0273.jpg  \n",
            "  inflating: New Masks Dataset/Train/Mask/0277.jpg  \n",
            "  inflating: New Masks Dataset/Train/Mask/0286.jpg  \n",
            "  inflating: New Masks Dataset/Train/Mask/0309.jpg  \n",
            "  inflating: New Masks Dataset/Train/Mask/0311.jpeg  \n",
            "  inflating: New Masks Dataset/Train/Mask/0317.jpg  \n",
            "  inflating: New Masks Dataset/Train/Mask/0323.jpg  \n",
            "  inflating: New Masks Dataset/Train/Mask/0343.jpg  \n",
            "  inflating: New Masks Dataset/Train/Mask/0367.png  \n",
            "  inflating: New Masks Dataset/Train/Mask/0372.jpg  \n",
            "  inflating: New Masks Dataset/Train/Mask/0376.png  \n",
            "  inflating: New Masks Dataset/Train/Mask/0384.jpg  \n",
            "  inflating: New Masks Dataset/Train/Mask/0385.jpg  \n",
            "  inflating: New Masks Dataset/Train/Mask/0387.png  \n",
            "  inflating: New Masks Dataset/Train/Mask/0414.jpg  \n",
            "  inflating: New Masks Dataset/Train/Mask/0415.jpg  \n",
            "  inflating: New Masks Dataset/Train/Mask/0417.jpg  \n",
            "  inflating: New Masks Dataset/Train/Mask/0418.jpg  \n",
            "  inflating: New Masks Dataset/Train/Mask/0420.jpeg  \n",
            "  inflating: New Masks Dataset/Train/Mask/0421.jpg  \n",
            "  inflating: New Masks Dataset/Train/Mask/0427.jpg  \n",
            "  inflating: New Masks Dataset/Train/Mask/0451.jpg  \n",
            "  inflating: New Masks Dataset/Train/Mask/0466.jpg  \n",
            "  inflating: New Masks Dataset/Train/Mask/0469.jpg  \n",
            "  inflating: New Masks Dataset/Train/Mask/0470.jpg  \n",
            "  inflating: New Masks Dataset/Train/Mask/0481.jpg  \n",
            "  inflating: New Masks Dataset/Train/Mask/0482.jpg  \n",
            "  inflating: New Masks Dataset/Train/Mask/0486.jpg  \n",
            "  inflating: New Masks Dataset/Train/Mask/0488.jpg  \n",
            "  inflating: New Masks Dataset/Train/Mask/0493.jpg  \n",
            "  inflating: New Masks Dataset/Train/Mask/0498.jpg  \n",
            "  inflating: New Masks Dataset/Train/Mask/0499.jpg  \n",
            "  inflating: New Masks Dataset/Train/Mask/0502.png  \n",
            "  inflating: New Masks Dataset/Train/Mask/0503.png  \n",
            "  inflating: New Masks Dataset/Train/Mask/0505.jpg  \n",
            "  inflating: New Masks Dataset/Train/Mask/0506.jpg  \n",
            "  inflating: New Masks Dataset/Train/Mask/0515.png  \n",
            "  inflating: New Masks Dataset/Train/Mask/0536.jpg  \n",
            "  inflating: New Masks Dataset/Train/Mask/0544.jpg  \n",
            "  inflating: New Masks Dataset/Train/Mask/0545.jpg  \n",
            "  inflating: New Masks Dataset/Train/Mask/0547.jpg  \n",
            "  inflating: New Masks Dataset/Train/Mask/0558.jpg  \n",
            "  inflating: New Masks Dataset/Train/Mask/0559.jpg  \n",
            "  inflating: New Masks Dataset/Train/Mask/0561.jpg  \n",
            "  inflating: New Masks Dataset/Train/Mask/0566.jpg  \n",
            "  inflating: New Masks Dataset/Train/Mask/0577.jpg  \n",
            "  inflating: New Masks Dataset/Train/Mask/0582.jpg  \n",
            "  inflating: New Masks Dataset/Train/Mask/0583.jpg  \n",
            "  inflating: New Masks Dataset/Train/Mask/0592.jpg  \n",
            "  inflating: New Masks Dataset/Train/Mask/0614.jpg  \n",
            "  inflating: New Masks Dataset/Train/Mask/0626.jpg  \n",
            "  inflating: New Masks Dataset/Train/Mask/0638.jpg  \n",
            "  inflating: New Masks Dataset/Train/Mask/0639.jpg  \n",
            "  inflating: New Masks Dataset/Train/Mask/0644.jpg  \n",
            "  inflating: New Masks Dataset/Train/Mask/0650.jpg  \n",
            "  inflating: New Masks Dataset/Train/Mask/0655.jpg  \n",
            "  inflating: New Masks Dataset/Train/Mask/0657.jpg  \n",
            "  inflating: New Masks Dataset/Train/Mask/0660.jpg  \n",
            "  inflating: New Masks Dataset/Train/Mask/0661.jpg  \n",
            "  inflating: New Masks Dataset/Train/Mask/0669.jpg  \n",
            "  inflating: New Masks Dataset/Train/Mask/0671.jpg  \n",
            "  inflating: New Masks Dataset/Train/Mask/0676.jpg  \n",
            "  inflating: New Masks Dataset/Train/Mask/0690.jpg  \n",
            "  inflating: New Masks Dataset/Train/Mask/0693.jpg  \n",
            "  inflating: New Masks Dataset/Train/Mask/0698.jpg  \n",
            "  inflating: New Masks Dataset/Train/Mask/0714.jpg  \n",
            "  inflating: New Masks Dataset/Train/Mask/0715.jpg  \n",
            "  inflating: New Masks Dataset/Train/Mask/0719.jpg  \n",
            "  inflating: New Masks Dataset/Train/Mask/0725.jpg  \n",
            "  inflating: New Masks Dataset/Train/Mask/0726.jpg  \n",
            "  inflating: New Masks Dataset/Train/Mask/0727.jpg  \n",
            "  inflating: New Masks Dataset/Train/Mask/0731.jpg  \n",
            "  inflating: New Masks Dataset/Train/Mask/0733.jpg  \n",
            "  inflating: New Masks Dataset/Train/Mask/0737.jpg  \n",
            "  inflating: New Masks Dataset/Train/Mask/0743.jpg  \n",
            "  inflating: New Masks Dataset/Train/Mask/0746.jpg  \n",
            "  inflating: New Masks Dataset/Train/Mask/0748.jpg  \n",
            "  inflating: New Masks Dataset/Train/Mask/0750.jpg  \n",
            "  inflating: New Masks Dataset/Train/Mask/0759.jpg  \n",
            "  inflating: New Masks Dataset/Train/Mask/0760.jpg  \n",
            "  inflating: New Masks Dataset/Train/Mask/0761.jpg  \n",
            "  inflating: New Masks Dataset/Train/Mask/0763.jpg  \n",
            "  inflating: New Masks Dataset/Train/Mask/0769.jpg  \n",
            "  inflating: New Masks Dataset/Train/Mask/0770.jpg  \n",
            "  inflating: New Masks Dataset/Train/Mask/0772.jpg  \n",
            "  inflating: New Masks Dataset/Train/Mask/0773.jpg  \n",
            "  inflating: New Masks Dataset/Train/Mask/0777.jpg  \n",
            "  inflating: New Masks Dataset/Train/Mask/0779.jpg  \n",
            "  inflating: New Masks Dataset/Train/Mask/0780.jpg  \n",
            "  inflating: New Masks Dataset/Train/Mask/0782.jpg  \n",
            "  inflating: New Masks Dataset/Train/Mask/0784.jpg  \n",
            "  inflating: New Masks Dataset/Train/Mask/0786.jpg  \n",
            "  inflating: New Masks Dataset/Train/Mask/0787.jpg  \n",
            "  inflating: New Masks Dataset/Train/Mask/0791.jpg  \n",
            "  inflating: New Masks Dataset/Train/Mask/0792.jpg  \n",
            "  inflating: New Masks Dataset/Train/Mask/0802.jpg  \n",
            "  inflating: New Masks Dataset/Train/Mask/0803.jpg  \n",
            "  inflating: New Masks Dataset/Train/Mask/0805.jpg  \n",
            "  inflating: New Masks Dataset/Train/Mask/0806.jpg  \n",
            "  inflating: New Masks Dataset/Train/Mask/0831.jpg  \n",
            "  inflating: New Masks Dataset/Train/Mask/0837.jpg  \n",
            "  inflating: New Masks Dataset/Train/Mask/0838.jpg  \n",
            "  inflating: New Masks Dataset/Train/Mask/0862.jpg  \n",
            "  inflating: New Masks Dataset/Train/Mask/0864.jpg  \n",
            "  inflating: New Masks Dataset/Train/Mask/0888.jpg  \n",
            "  inflating: New Masks Dataset/Train/Mask/0891.jpg  \n",
            "  inflating: New Masks Dataset/Train/Mask/0901.jpeg  \n",
            "  inflating: New Masks Dataset/Train/Mask/0911.jpg  \n",
            "  inflating: New Masks Dataset/Train/Mask/0913.jpg  \n",
            "  inflating: New Masks Dataset/Train/Mask/0930.jpg  \n",
            "  inflating: New Masks Dataset/Train/Mask/0932.jpg  \n",
            "  inflating: New Masks Dataset/Train/Mask/0934.png  \n",
            "  inflating: New Masks Dataset/Train/Mask/0936.jpg  \n",
            "  inflating: New Masks Dataset/Train/Mask/0938.jpeg  \n",
            "  inflating: New Masks Dataset/Train/Mask/0943.jpg  \n",
            "  inflating: New Masks Dataset/Train/Mask/0951.jpg  \n",
            "  inflating: New Masks Dataset/Train/Mask/0954.jpg  \n",
            "  inflating: New Masks Dataset/Train/Mask/0972.jpg  \n",
            "  inflating: New Masks Dataset/Train/Mask/0976.jpg  \n",
            "  inflating: New Masks Dataset/Train/Mask/0988.jpg  \n",
            "  inflating: New Masks Dataset/Train/Mask/0994.jpg  \n",
            "  inflating: New Masks Dataset/Train/Mask/0999.png  \n",
            "  inflating: New Masks Dataset/Train/Mask/1020.jpg  \n",
            "  inflating: New Masks Dataset/Train/Mask/1036.png  \n",
            "  inflating: New Masks Dataset/Train/Mask/1037.png  \n",
            "  inflating: New Masks Dataset/Train/Mask/1039.jpg  \n",
            "  inflating: New Masks Dataset/Train/Mask/1040.jpg  \n",
            "  inflating: New Masks Dataset/Train/Mask/1041.jpg  \n",
            "  inflating: New Masks Dataset/Train/Mask/1053.jpg  \n",
            "  inflating: New Masks Dataset/Train/Mask/1054.jpg  \n",
            "  inflating: New Masks Dataset/Train/Mask/1058.jpg  \n",
            "  inflating: New Masks Dataset/Train/Mask/1067.jpg  \n",
            "  inflating: New Masks Dataset/Train/Mask/1068.png  \n",
            "  inflating: New Masks Dataset/Train/Mask/1083.jpg  \n",
            "  inflating: New Masks Dataset/Train/Mask/1095.jpg  \n",
            "  inflating: New Masks Dataset/Train/Mask/1096.jpg  \n",
            "  inflating: New Masks Dataset/Train/Mask/1103.png  \n",
            "  inflating: New Masks Dataset/Train/Mask/1106.jpg  \n",
            "  inflating: New Masks Dataset/Train/Mask/1107.jpg  \n",
            "  inflating: New Masks Dataset/Train/Mask/1109.jpg  \n",
            "  inflating: New Masks Dataset/Train/Mask/1110.jpg  \n",
            "  inflating: New Masks Dataset/Train/Mask/1112.jpg  \n",
            "  inflating: New Masks Dataset/Train/Mask/1115.jpg  \n",
            "  inflating: New Masks Dataset/Train/Mask/1117.jpg  \n",
            "  inflating: New Masks Dataset/Train/Mask/1132.jpg  \n",
            "  inflating: New Masks Dataset/Train/Mask/1133.jpg  \n",
            "  inflating: New Masks Dataset/Train/Mask/1135.jpg  \n",
            "  inflating: New Masks Dataset/Train/Mask/1136.jpg  \n",
            "  inflating: New Masks Dataset/Train/Mask/1137.jpg  \n",
            "  inflating: New Masks Dataset/Train/Mask/1154.jpg  \n",
            "  inflating: New Masks Dataset/Train/Mask/1155.jpg  \n",
            "  inflating: New Masks Dataset/Train/Mask/1159.jpg  \n",
            "  inflating: New Masks Dataset/Train/Mask/1160.jpg  \n",
            "  inflating: New Masks Dataset/Train/Mask/1166.jpg  \n",
            "  inflating: New Masks Dataset/Train/Mask/1172.jpg  \n",
            "  inflating: New Masks Dataset/Train/Mask/1173.jpg  \n",
            "  inflating: New Masks Dataset/Train/Mask/1195.jpg  \n",
            "  inflating: New Masks Dataset/Train/Mask/1214.jpg  \n",
            "  inflating: New Masks Dataset/Train/Mask/1234.jpg  \n",
            "  inflating: New Masks Dataset/Train/Mask/1243.jpg  \n",
            "  inflating: New Masks Dataset/Train/Mask/1246.jpg  \n",
            "  inflating: New Masks Dataset/Train/Mask/1247.jpg  \n",
            "  inflating: New Masks Dataset/Train/Mask/1251.jpg  \n",
            "  inflating: New Masks Dataset/Train/Mask/1255.jpg  \n",
            "  inflating: New Masks Dataset/Train/Mask/1264.jpg  \n",
            "  inflating: New Masks Dataset/Train/Mask/1278.jpg  \n",
            "  inflating: New Masks Dataset/Train/Mask/1279.jpg  \n",
            "  inflating: New Masks Dataset/Train/Mask/1280.jpg  \n",
            "  inflating: New Masks Dataset/Train/Mask/1290.jpg  \n",
            "  inflating: New Masks Dataset/Train/Mask/1291.jpg  \n",
            "  inflating: New Masks Dataset/Train/Mask/1323.jpg  \n",
            "  inflating: New Masks Dataset/Train/Mask/1338.jpg  \n",
            "  inflating: New Masks Dataset/Train/Mask/1339.jpg  \n",
            "  inflating: New Masks Dataset/Train/Mask/1340.jpg  \n",
            "  inflating: New Masks Dataset/Train/Mask/1346.jpg  \n",
            "  inflating: New Masks Dataset/Train/Mask/1369.jpg  \n",
            "  inflating: New Masks Dataset/Train/Mask/1378.jpg  \n",
            "  inflating: New Masks Dataset/Train/Mask/1383.jpg  \n",
            "  inflating: New Masks Dataset/Train/Mask/1394.jpg  \n",
            "  inflating: New Masks Dataset/Train/Mask/1405.jpg  \n",
            "  inflating: New Masks Dataset/Train/Mask/1406.jpg  \n",
            "  inflating: New Masks Dataset/Train/Mask/1409.jpg  \n",
            "  inflating: New Masks Dataset/Train/Mask/1430.jpg  \n",
            "  inflating: New Masks Dataset/Train/Mask/1453.jpg  \n",
            "  inflating: New Masks Dataset/Train/Mask/1455.jpg  \n",
            "  inflating: New Masks Dataset/Train/Mask/1456.jpg  \n",
            "  inflating: New Masks Dataset/Train/Mask/1462.jpg  \n",
            "  inflating: New Masks Dataset/Train/Mask/1471.jpg  \n",
            "  inflating: New Masks Dataset/Train/Mask/1473.jpg  \n",
            "  inflating: New Masks Dataset/Train/Mask/1486.jpg  \n",
            "  inflating: New Masks Dataset/Train/Mask/1487.jpg  \n",
            "  inflating: New Masks Dataset/Train/Mask/1488.jpg  \n",
            "  inflating: New Masks Dataset/Train/Mask/1490.jpg  \n",
            "  inflating: New Masks Dataset/Train/Mask/1491.jpg  \n",
            "  inflating: New Masks Dataset/Train/Mask/1492.jpg  \n",
            "  inflating: New Masks Dataset/Train/Mask/1493.jpg  \n",
            "  inflating: New Masks Dataset/Train/Mask/1503.jpg  \n",
            "  inflating: New Masks Dataset/Train/Mask/1506.jpg  \n",
            "  inflating: New Masks Dataset/Train/Mask/1511.jpg  \n",
            "  inflating: New Masks Dataset/Train/Mask/1512.jpg  \n",
            "  inflating: New Masks Dataset/Train/Mask/1513.jpg  \n",
            "  inflating: New Masks Dataset/Train/Mask/1514.jpg  \n",
            "  inflating: New Masks Dataset/Train/Mask/1515.jpg  \n",
            "  inflating: New Masks Dataset/Train/Mask/1517.jpg  \n",
            "  inflating: New Masks Dataset/Train/Mask/1518.jpg  \n",
            "  inflating: New Masks Dataset/Train/Mask/1520.jpg  \n",
            "  inflating: New Masks Dataset/Train/Mask/1523.jpg  \n",
            "  inflating: New Masks Dataset/Train/Mask/1526.jpg  \n",
            "  inflating: New Masks Dataset/Train/Mask/1527.jpg  \n",
            "  inflating: New Masks Dataset/Train/Mask/1530.jpg  \n",
            "  inflating: New Masks Dataset/Train/Mask/1536.jpg  \n",
            "  inflating: New Masks Dataset/Train/Mask/1539.jpg  \n",
            "  inflating: New Masks Dataset/Train/Mask/1548.jpg  \n",
            "  inflating: New Masks Dataset/Train/Mask/1553.jpg  \n",
            "  inflating: New Masks Dataset/Train/Mask/1554.jpg  \n",
            "  inflating: New Masks Dataset/Train/Mask/1555.jpg  \n",
            "  inflating: New Masks Dataset/Train/Mask/1556.jpg  \n",
            "  inflating: New Masks Dataset/Train/Mask/1558.png  \n",
            "  inflating: New Masks Dataset/Train/Mask/1560.jpg  \n",
            "  inflating: New Masks Dataset/Train/Mask/1562.jpg  \n",
            "  inflating: New Masks Dataset/Train/Mask/1568.jpg  \n",
            "  inflating: New Masks Dataset/Train/Mask/1574.jpg  \n",
            "  inflating: New Masks Dataset/Train/Mask/1576.jpg  \n",
            "  inflating: New Masks Dataset/Train/Mask/1577.jpg  \n",
            "  inflating: New Masks Dataset/Train/Mask/1583.jpg  \n",
            "  inflating: New Masks Dataset/Train/Mask/1584.jpg  \n",
            "  inflating: New Masks Dataset/Train/Mask/1589.jpg  \n",
            "  inflating: New Masks Dataset/Train/Mask/1598.jpg  \n",
            "  inflating: New Masks Dataset/Train/Mask/1600.jpg  \n",
            "  inflating: New Masks Dataset/Train/Mask/1601.jpg  \n",
            "  inflating: New Masks Dataset/Train/Mask/1608.jpeg  \n",
            "  inflating: New Masks Dataset/Train/Mask/1609.jpg  \n",
            "  inflating: New Masks Dataset/Train/Mask/1626.jpg  \n",
            "  inflating: New Masks Dataset/Train/Mask/1628.jpg  \n",
            "  inflating: New Masks Dataset/Train/Mask/1631.jpg  \n",
            "  inflating: New Masks Dataset/Train/Mask/1634.jpg  \n",
            "  inflating: New Masks Dataset/Train/Mask/1635.jpg  \n",
            "  inflating: New Masks Dataset/Train/Mask/1636.jpg  \n",
            "  inflating: New Masks Dataset/Train/Mask/1637.jpg  \n",
            "  inflating: New Masks Dataset/Train/Mask/1645.jpg  \n",
            "  inflating: New Masks Dataset/Train/Mask/1664.jpg  \n",
            "  inflating: New Masks Dataset/Train/Mask/1669.jpg  \n",
            "  inflating: New Masks Dataset/Train/Mask/1689.jpg  \n",
            "  inflating: New Masks Dataset/Train/Non Mask/0.jpg  \n",
            "  inflating: New Masks Dataset/Train/Non Mask/1.jpg  \n",
            "  inflating: New Masks Dataset/Train/Non Mask/10.jpg  \n",
            "  inflating: New Masks Dataset/Train/Non Mask/100.jpg  \n",
            "  inflating: New Masks Dataset/Train/Non Mask/101.jpg  \n",
            "  inflating: New Masks Dataset/Train/Non Mask/102.jpg  \n",
            "  inflating: New Masks Dataset/Train/Non Mask/104.jpg  \n",
            "  inflating: New Masks Dataset/Train/Non Mask/105.jpg  \n",
            "  inflating: New Masks Dataset/Train/Non Mask/106.jpg  \n",
            "  inflating: New Masks Dataset/Train/Non Mask/107.jpg  \n",
            "  inflating: New Masks Dataset/Train/Non Mask/108.jpg  \n",
            "  inflating: New Masks Dataset/Train/Non Mask/109.jpg  \n",
            "  inflating: New Masks Dataset/Train/Non Mask/11.jpg  \n",
            "  inflating: New Masks Dataset/Train/Non Mask/110.jpg  \n",
            "  inflating: New Masks Dataset/Train/Non Mask/111.jpg  \n",
            "  inflating: New Masks Dataset/Train/Non Mask/112.jpg  \n",
            "  inflating: New Masks Dataset/Train/Non Mask/114.jpg  \n",
            "  inflating: New Masks Dataset/Train/Non Mask/115.jpg  \n",
            "  inflating: New Masks Dataset/Train/Non Mask/116.jpg  \n",
            "  inflating: New Masks Dataset/Train/Non Mask/117.jpg  \n",
            "  inflating: New Masks Dataset/Train/Non Mask/118.jpg  \n",
            "  inflating: New Masks Dataset/Train/Non Mask/119.jpg  \n",
            "  inflating: New Masks Dataset/Train/Non Mask/12.jpg  \n",
            "  inflating: New Masks Dataset/Train/Non Mask/120.jpg  \n",
            "  inflating: New Masks Dataset/Train/Non Mask/122.jpg  \n",
            "  inflating: New Masks Dataset/Train/Non Mask/123.jpg  \n",
            "  inflating: New Masks Dataset/Train/Non Mask/124.jpg  \n",
            "  inflating: New Masks Dataset/Train/Non Mask/125.jpg  \n",
            "  inflating: New Masks Dataset/Train/Non Mask/127.jpg  \n",
            "  inflating: New Masks Dataset/Train/Non Mask/128.jpg  \n",
            "  inflating: New Masks Dataset/Train/Non Mask/129.jpg  \n",
            "  inflating: New Masks Dataset/Train/Non Mask/13.jpg  \n",
            "  inflating: New Masks Dataset/Train/Non Mask/130.jpg  \n",
            "  inflating: New Masks Dataset/Train/Non Mask/131.jpg  \n",
            "  inflating: New Masks Dataset/Train/Non Mask/132.jpg  \n",
            "  inflating: New Masks Dataset/Train/Non Mask/133.jpg  \n",
            "  inflating: New Masks Dataset/Train/Non Mask/134.jpg  \n",
            "  inflating: New Masks Dataset/Train/Non Mask/135.jpg  \n",
            "  inflating: New Masks Dataset/Train/Non Mask/136.jpg  \n",
            "  inflating: New Masks Dataset/Train/Non Mask/137.jpg  \n",
            "  inflating: New Masks Dataset/Train/Non Mask/138.jpg  \n",
            "  inflating: New Masks Dataset/Train/Non Mask/139.jpg  \n",
            "  inflating: New Masks Dataset/Train/Non Mask/14.jpg  \n",
            "  inflating: New Masks Dataset/Train/Non Mask/140.jpg  \n",
            "  inflating: New Masks Dataset/Train/Non Mask/141.jpg  \n",
            "  inflating: New Masks Dataset/Train/Non Mask/142.jpg  \n",
            "  inflating: New Masks Dataset/Train/Non Mask/143.jpg  \n",
            "  inflating: New Masks Dataset/Train/Non Mask/145.jpg  \n",
            "  inflating: New Masks Dataset/Train/Non Mask/146.jpg  \n",
            "  inflating: New Masks Dataset/Train/Non Mask/148.jpg  \n",
            "  inflating: New Masks Dataset/Train/Non Mask/149.jpg  \n",
            "  inflating: New Masks Dataset/Train/Non Mask/15.jpg  \n",
            "  inflating: New Masks Dataset/Train/Non Mask/151.jpg  \n",
            "  inflating: New Masks Dataset/Train/Non Mask/152.jpg  \n",
            "  inflating: New Masks Dataset/Train/Non Mask/153.jpg  \n",
            "  inflating: New Masks Dataset/Train/Non Mask/154.jpg  \n",
            "  inflating: New Masks Dataset/Train/Non Mask/155.jpg  \n",
            "  inflating: New Masks Dataset/Train/Non Mask/156.jpg  \n",
            "  inflating: New Masks Dataset/Train/Non Mask/157.jpg  \n",
            "  inflating: New Masks Dataset/Train/Non Mask/158.jpg  \n",
            "  inflating: New Masks Dataset/Train/Non Mask/159.jpg  \n",
            "  inflating: New Masks Dataset/Train/Non Mask/16.jpg  \n",
            "  inflating: New Masks Dataset/Train/Non Mask/160.jpg  \n",
            "  inflating: New Masks Dataset/Train/Non Mask/161.jpg  \n",
            "  inflating: New Masks Dataset/Train/Non Mask/162.jpg  \n",
            "  inflating: New Masks Dataset/Train/Non Mask/163.jpg  \n",
            "  inflating: New Masks Dataset/Train/Non Mask/164.jpg  \n",
            "  inflating: New Masks Dataset/Train/Non Mask/166.jpg  \n",
            "  inflating: New Masks Dataset/Train/Non Mask/168.jpg  \n",
            "  inflating: New Masks Dataset/Train/Non Mask/169.jpg  \n",
            "  inflating: New Masks Dataset/Train/Non Mask/17.jpg  \n",
            "  inflating: New Masks Dataset/Train/Non Mask/170.jpg  \n",
            "  inflating: New Masks Dataset/Train/Non Mask/171.jpg  \n",
            "  inflating: New Masks Dataset/Train/Non Mask/172.jpg  \n",
            "  inflating: New Masks Dataset/Train/Non Mask/173.jpg  \n",
            "  inflating: New Masks Dataset/Train/Non Mask/174.jpg  \n",
            "  inflating: New Masks Dataset/Train/Non Mask/175.jpg  \n",
            "  inflating: New Masks Dataset/Train/Non Mask/176.jpg  \n",
            "  inflating: New Masks Dataset/Train/Non Mask/177.jpg  \n",
            "  inflating: New Masks Dataset/Train/Non Mask/178.jpg  \n",
            "  inflating: New Masks Dataset/Train/Non Mask/179.jpg  \n",
            "  inflating: New Masks Dataset/Train/Non Mask/18.jpg  \n",
            "  inflating: New Masks Dataset/Train/Non Mask/180.jpg  \n",
            "  inflating: New Masks Dataset/Train/Non Mask/181.jpg  \n",
            "  inflating: New Masks Dataset/Train/Non Mask/183.jpg  \n",
            "  inflating: New Masks Dataset/Train/Non Mask/184.jpg  \n",
            "  inflating: New Masks Dataset/Train/Non Mask/185.jpg  \n",
            "  inflating: New Masks Dataset/Train/Non Mask/186.jpg  \n",
            "  inflating: New Masks Dataset/Train/Non Mask/187.jpg  \n",
            "  inflating: New Masks Dataset/Train/Non Mask/188.jpg  \n",
            "  inflating: New Masks Dataset/Train/Non Mask/19.jpg  \n",
            "  inflating: New Masks Dataset/Train/Non Mask/191.jpg  \n",
            "  inflating: New Masks Dataset/Train/Non Mask/192.jpg  \n",
            "  inflating: New Masks Dataset/Train/Non Mask/193.jpg  \n",
            "  inflating: New Masks Dataset/Train/Non Mask/194.jpg  \n",
            "  inflating: New Masks Dataset/Train/Non Mask/195.jpg  \n",
            "  inflating: New Masks Dataset/Train/Non Mask/196.jpg  \n",
            "  inflating: New Masks Dataset/Train/Non Mask/197.jpg  \n",
            "  inflating: New Masks Dataset/Train/Non Mask/198.jpg  \n",
            "  inflating: New Masks Dataset/Train/Non Mask/2.jpg  \n",
            "  inflating: New Masks Dataset/Train/Non Mask/20.jpg  \n",
            "  inflating: New Masks Dataset/Train/Non Mask/201.jpg  \n",
            "  inflating: New Masks Dataset/Train/Non Mask/203.jpg  \n",
            "  inflating: New Masks Dataset/Train/Non Mask/204.jpg  \n",
            "  inflating: New Masks Dataset/Train/Non Mask/206.jpg  \n",
            "  inflating: New Masks Dataset/Train/Non Mask/207.jpg  \n",
            "  inflating: New Masks Dataset/Train/Non Mask/208.jpg  \n",
            "  inflating: New Masks Dataset/Train/Non Mask/210.jpg  \n",
            "  inflating: New Masks Dataset/Train/Non Mask/211.jpg  \n",
            "  inflating: New Masks Dataset/Train/Non Mask/212.jpg  \n",
            "  inflating: New Masks Dataset/Train/Non Mask/213.jpg  \n",
            "  inflating: New Masks Dataset/Train/Non Mask/214.jpg  \n",
            "  inflating: New Masks Dataset/Train/Non Mask/215.jpg  \n",
            "  inflating: New Masks Dataset/Train/Non Mask/216.jpg  \n",
            "  inflating: New Masks Dataset/Train/Non Mask/217.jpg  \n",
            "  inflating: New Masks Dataset/Train/Non Mask/218.jpg  \n",
            "  inflating: New Masks Dataset/Train/Non Mask/22.jpg  \n",
            "  inflating: New Masks Dataset/Train/Non Mask/220.jpg  \n",
            "  inflating: New Masks Dataset/Train/Non Mask/221.jpg  \n",
            "  inflating: New Masks Dataset/Train/Non Mask/222.jpg  \n",
            "  inflating: New Masks Dataset/Train/Non Mask/223.jpg  \n",
            "  inflating: New Masks Dataset/Train/Non Mask/224.jpg  \n",
            "  inflating: New Masks Dataset/Train/Non Mask/225.jpg  \n",
            "  inflating: New Masks Dataset/Train/Non Mask/226.jpg  \n",
            "  inflating: New Masks Dataset/Train/Non Mask/227.jpg  \n",
            "  inflating: New Masks Dataset/Train/Non Mask/228.jpg  \n",
            "  inflating: New Masks Dataset/Train/Non Mask/229.jpg  \n",
            "  inflating: New Masks Dataset/Train/Non Mask/23.jpg  \n",
            "  inflating: New Masks Dataset/Train/Non Mask/230.jpg  \n",
            "  inflating: New Masks Dataset/Train/Non Mask/231.jpg  \n",
            "  inflating: New Masks Dataset/Train/Non Mask/232.jpg  \n",
            "  inflating: New Masks Dataset/Train/Non Mask/233.jpg  \n",
            "  inflating: New Masks Dataset/Train/Non Mask/234.jpg  \n",
            "  inflating: New Masks Dataset/Train/Non Mask/237.jpg  \n",
            "  inflating: New Masks Dataset/Train/Non Mask/239.jpg  \n",
            "  inflating: New Masks Dataset/Train/Non Mask/24.jpg  \n",
            "  inflating: New Masks Dataset/Train/Non Mask/240.jpg  \n",
            "  inflating: New Masks Dataset/Train/Non Mask/241.jpg  \n",
            "  inflating: New Masks Dataset/Train/Non Mask/242.jpg  \n",
            "  inflating: New Masks Dataset/Train/Non Mask/243.jpg  \n",
            "  inflating: New Masks Dataset/Train/Non Mask/244.jpg  \n",
            "  inflating: New Masks Dataset/Train/Non Mask/246.jpg  \n",
            "  inflating: New Masks Dataset/Train/Non Mask/247.jpg  \n",
            "  inflating: New Masks Dataset/Train/Non Mask/248.jpg  \n",
            "  inflating: New Masks Dataset/Train/Non Mask/249.jpg  \n",
            "  inflating: New Masks Dataset/Train/Non Mask/250.jpg  \n",
            "  inflating: New Masks Dataset/Train/Non Mask/251.jpg  \n",
            "  inflating: New Masks Dataset/Train/Non Mask/252.jpg  \n",
            "  inflating: New Masks Dataset/Train/Non Mask/253.jpg  \n",
            "  inflating: New Masks Dataset/Train/Non Mask/254.jpg  \n",
            "  inflating: New Masks Dataset/Train/Non Mask/255.jpg  \n",
            "  inflating: New Masks Dataset/Train/Non Mask/256.jpg  \n",
            "  inflating: New Masks Dataset/Train/Non Mask/258.jpg  \n",
            "  inflating: New Masks Dataset/Train/Non Mask/259.jpg  \n",
            "  inflating: New Masks Dataset/Train/Non Mask/26.jpg  \n",
            "  inflating: New Masks Dataset/Train/Non Mask/260.jpg  \n",
            "  inflating: New Masks Dataset/Train/Non Mask/261.jpg  \n",
            "  inflating: New Masks Dataset/Train/Non Mask/262.jpg  \n",
            "  inflating: New Masks Dataset/Train/Non Mask/263.jpg  \n",
            "  inflating: New Masks Dataset/Train/Non Mask/264.jpg  \n",
            "  inflating: New Masks Dataset/Train/Non Mask/265.jpg  \n",
            "  inflating: New Masks Dataset/Train/Non Mask/266.jpg  \n",
            "  inflating: New Masks Dataset/Train/Non Mask/267.jpg  \n",
            "  inflating: New Masks Dataset/Train/Non Mask/269.jpg  \n",
            "  inflating: New Masks Dataset/Train/Non Mask/27.jpg  \n",
            "  inflating: New Masks Dataset/Train/Non Mask/270.jpg  \n",
            "  inflating: New Masks Dataset/Train/Non Mask/271.jpg  \n",
            "  inflating: New Masks Dataset/Train/Non Mask/275.jpg  \n",
            "  inflating: New Masks Dataset/Train/Non Mask/276.jpg  \n",
            "  inflating: New Masks Dataset/Train/Non Mask/278.jpg  \n",
            "  inflating: New Masks Dataset/Train/Non Mask/28.jpg  \n",
            "  inflating: New Masks Dataset/Train/Non Mask/280.jpg  \n",
            "  inflating: New Masks Dataset/Train/Non Mask/281.jpg  \n",
            "  inflating: New Masks Dataset/Train/Non Mask/282.jpg  \n",
            "  inflating: New Masks Dataset/Train/Non Mask/283.jpg  \n",
            "  inflating: New Masks Dataset/Train/Non Mask/284.jpg  \n",
            "  inflating: New Masks Dataset/Train/Non Mask/285.jpg  \n",
            "  inflating: New Masks Dataset/Train/Non Mask/286.jpg  \n",
            "  inflating: New Masks Dataset/Train/Non Mask/287.jpg  \n",
            "  inflating: New Masks Dataset/Train/Non Mask/288.jpg  \n",
            "  inflating: New Masks Dataset/Train/Non Mask/289.jpg  \n",
            "  inflating: New Masks Dataset/Train/Non Mask/29.jpg  \n",
            "  inflating: New Masks Dataset/Train/Non Mask/290.jpg  \n",
            "  inflating: New Masks Dataset/Train/Non Mask/291.jpg  \n",
            "  inflating: New Masks Dataset/Train/Non Mask/292.jpg  \n",
            "  inflating: New Masks Dataset/Train/Non Mask/293.jpg  \n",
            "  inflating: New Masks Dataset/Train/Non Mask/294.jpg  \n",
            "  inflating: New Masks Dataset/Train/Non Mask/295.jpg  \n",
            "  inflating: New Masks Dataset/Train/Non Mask/297.jpg  \n",
            "  inflating: New Masks Dataset/Train/Non Mask/298.jpg  \n",
            "  inflating: New Masks Dataset/Train/Non Mask/299.jpg  \n",
            "  inflating: New Masks Dataset/Train/Non Mask/3.jpg  \n",
            "  inflating: New Masks Dataset/Train/Non Mask/30.jpg  \n",
            "  inflating: New Masks Dataset/Train/Non Mask/300.jpg  \n",
            "  inflating: New Masks Dataset/Train/Non Mask/301.jpg  \n",
            "  inflating: New Masks Dataset/Train/Non Mask/302.jpg  \n",
            "  inflating: New Masks Dataset/Train/Non Mask/303.jpg  \n",
            "  inflating: New Masks Dataset/Train/Non Mask/306.jpg  \n",
            "  inflating: New Masks Dataset/Train/Non Mask/307.jpg  \n",
            "  inflating: New Masks Dataset/Train/Non Mask/308.jpg  \n",
            "  inflating: New Masks Dataset/Train/Non Mask/309.jpg  \n",
            "  inflating: New Masks Dataset/Train/Non Mask/31.jpg  \n",
            "  inflating: New Masks Dataset/Train/Non Mask/310.jpg  \n",
            "  inflating: New Masks Dataset/Train/Non Mask/311.jpg  \n",
            "  inflating: New Masks Dataset/Train/Non Mask/312.jpg  \n",
            "  inflating: New Masks Dataset/Train/Non Mask/315.jpg  \n",
            "  inflating: New Masks Dataset/Train/Non Mask/316.jpg  \n",
            "  inflating: New Masks Dataset/Train/Non Mask/317.jpg  \n",
            "  inflating: New Masks Dataset/Train/Non Mask/318.jpg  \n",
            "  inflating: New Masks Dataset/Train/Non Mask/319.jpg  \n",
            "  inflating: New Masks Dataset/Train/Non Mask/32.jpg  \n",
            "  inflating: New Masks Dataset/Train/Non Mask/321.jpg  \n",
            "  inflating: New Masks Dataset/Train/Non Mask/322.jpg  \n",
            "  inflating: New Masks Dataset/Train/Non Mask/323.jpg  \n",
            "  inflating: New Masks Dataset/Train/Non Mask/324.jpg  \n",
            "  inflating: New Masks Dataset/Train/Non Mask/325.jpg  \n",
            "  inflating: New Masks Dataset/Train/Non Mask/326.jpg  \n",
            "  inflating: New Masks Dataset/Train/Non Mask/327.jpg  \n",
            "  inflating: New Masks Dataset/Train/Non Mask/328.jpg  \n",
            "  inflating: New Masks Dataset/Train/Non Mask/329.jpg  \n",
            "  inflating: New Masks Dataset/Train/Non Mask/33.jpg  \n",
            "  inflating: New Masks Dataset/Train/Non Mask/330.jpg  \n",
            "  inflating: New Masks Dataset/Train/Non Mask/331.jpg  \n",
            "  inflating: New Masks Dataset/Train/Non Mask/332.jpg  \n",
            "  inflating: New Masks Dataset/Train/Non Mask/334.jpg  \n",
            "  inflating: New Masks Dataset/Train/Non Mask/335.jpg  \n",
            "  inflating: New Masks Dataset/Train/Non Mask/336.jpg  \n",
            "  inflating: New Masks Dataset/Train/Non Mask/337.jpg  \n",
            "  inflating: New Masks Dataset/Train/Non Mask/338.jpg  \n",
            "  inflating: New Masks Dataset/Train/Non Mask/339.jpg  \n",
            "  inflating: New Masks Dataset/Train/Non Mask/34.jpg  \n",
            "  inflating: New Masks Dataset/Train/Non Mask/340.jpg  \n",
            "  inflating: New Masks Dataset/Train/Non Mask/341.jpg  \n",
            "  inflating: New Masks Dataset/Train/Non Mask/344.jpg  \n",
            "  inflating: New Masks Dataset/Train/Non Mask/345.jpg  \n",
            "  inflating: New Masks Dataset/Train/Non Mask/347.jpg  \n",
            "  inflating: New Masks Dataset/Train/Non Mask/348.jpg  \n",
            "  inflating: New Masks Dataset/Train/Non Mask/349.jpg  \n",
            "  inflating: New Masks Dataset/Train/Non Mask/350.jpg  \n",
            "  inflating: New Masks Dataset/Train/Non Mask/351.jpg  \n",
            "  inflating: New Masks Dataset/Train/Non Mask/352.jpg  \n",
            "  inflating: New Masks Dataset/Train/Non Mask/353.jpg  \n",
            "  inflating: New Masks Dataset/Train/Non Mask/36.jpg  \n",
            "  inflating: New Masks Dataset/Train/Non Mask/37.jpg  \n",
            "  inflating: New Masks Dataset/Train/Non Mask/39.jpg  \n",
            "  inflating: New Masks Dataset/Train/Non Mask/4.jpg  \n",
            "  inflating: New Masks Dataset/Train/Non Mask/40.jpg  \n",
            "  inflating: New Masks Dataset/Train/Non Mask/42.jpg  \n",
            "  inflating: New Masks Dataset/Train/Non Mask/43.jpg  \n",
            "  inflating: New Masks Dataset/Train/Non Mask/44.jpg  \n",
            "  inflating: New Masks Dataset/Train/Non Mask/45.jpg  \n",
            "  inflating: New Masks Dataset/Train/Non Mask/46.jpg  \n",
            "  inflating: New Masks Dataset/Train/Non Mask/47.jpg  \n",
            "  inflating: New Masks Dataset/Train/Non Mask/48.jpg  \n",
            "  inflating: New Masks Dataset/Train/Non Mask/49.jpg  \n",
            "  inflating: New Masks Dataset/Train/Non Mask/50.jpg  \n",
            "  inflating: New Masks Dataset/Train/Non Mask/51.jpg  \n",
            "  inflating: New Masks Dataset/Train/Non Mask/52.jpg  \n",
            "  inflating: New Masks Dataset/Train/Non Mask/53.jpg  \n",
            "  inflating: New Masks Dataset/Train/Non Mask/54.jpg  \n",
            "  inflating: New Masks Dataset/Train/Non Mask/55.jpg  \n",
            "  inflating: New Masks Dataset/Train/Non Mask/56.jpg  \n",
            "  inflating: New Masks Dataset/Train/Non Mask/57.jpg  \n",
            "  inflating: New Masks Dataset/Train/Non Mask/58.jpg  \n",
            "  inflating: New Masks Dataset/Train/Non Mask/59.jpg  \n",
            "  inflating: New Masks Dataset/Train/Non Mask/6.jpg  \n",
            "  inflating: New Masks Dataset/Train/Non Mask/61.jpg  \n",
            "  inflating: New Masks Dataset/Train/Non Mask/62.jpg  \n",
            "  inflating: New Masks Dataset/Train/Non Mask/63.jpg  \n",
            "  inflating: New Masks Dataset/Train/Non Mask/64.jpg  \n",
            "  inflating: New Masks Dataset/Train/Non Mask/65.jpg  \n",
            "  inflating: New Masks Dataset/Train/Non Mask/66.jpg  \n",
            "  inflating: New Masks Dataset/Train/Non Mask/67.jpg  \n",
            "  inflating: New Masks Dataset/Train/Non Mask/69.jpg  \n",
            "  inflating: New Masks Dataset/Train/Non Mask/7.jpg  \n",
            "  inflating: New Masks Dataset/Train/Non Mask/70.jpg  \n",
            "  inflating: New Masks Dataset/Train/Non Mask/73.jpg  \n",
            "  inflating: New Masks Dataset/Train/Non Mask/74.jpg  \n",
            "  inflating: New Masks Dataset/Train/Non Mask/76.jpg  \n",
            "  inflating: New Masks Dataset/Train/Non Mask/77.jpg  \n",
            "  inflating: New Masks Dataset/Train/Non Mask/79.jpg  \n",
            "  inflating: New Masks Dataset/Train/Non Mask/80.jpg  \n",
            "  inflating: New Masks Dataset/Train/Non Mask/81.jpg  \n",
            "  inflating: New Masks Dataset/Train/Non Mask/83.jpg  \n",
            "  inflating: New Masks Dataset/Train/Non Mask/84.jpg  \n",
            "  inflating: New Masks Dataset/Train/Non Mask/86.jpg  \n",
            "  inflating: New Masks Dataset/Train/Non Mask/87.jpg  \n",
            "  inflating: New Masks Dataset/Train/Non Mask/88.jpg  \n",
            "  inflating: New Masks Dataset/Train/Non Mask/89.jpg  \n",
            "  inflating: New Masks Dataset/Train/Non Mask/9.jpg  \n",
            "  inflating: New Masks Dataset/Train/Non Mask/90.jpg  \n",
            "  inflating: New Masks Dataset/Train/Non Mask/91.jpg  \n",
            "  inflating: New Masks Dataset/Train/Non Mask/92.jpg  \n",
            "  inflating: New Masks Dataset/Train/Non Mask/93.jpg  \n",
            "  inflating: New Masks Dataset/Train/Non Mask/94.jpg  \n",
            "  inflating: New Masks Dataset/Train/Non Mask/95.jpg  \n",
            "  inflating: New Masks Dataset/Train/Non Mask/96.jpg  \n",
            "  inflating: New Masks Dataset/Train/Non Mask/97.jpg  \n",
            "  inflating: New Masks Dataset/Train/Non Mask/98.jpg  \n",
            "  inflating: New Masks Dataset/Train/Non Mask/99.jpg  \n",
            "  inflating: New Masks Dataset/Validation/Mask/1701.jpg  \n",
            "  inflating: New Masks Dataset/Validation/Mask/1702.jpg  \n",
            "  inflating: New Masks Dataset/Validation/Mask/1713.jpg  \n",
            "  inflating: New Masks Dataset/Validation/Mask/1721.jpg  \n",
            "  inflating: New Masks Dataset/Validation/Mask/1727.jpg  \n",
            "  inflating: New Masks Dataset/Validation/Mask/1731.jpg  \n",
            "  inflating: New Masks Dataset/Validation/Mask/1773.jpg  \n",
            "  inflating: New Masks Dataset/Validation/Mask/1779.jpeg  \n",
            "  inflating: New Masks Dataset/Validation/Mask/1793.jpg  \n",
            "  inflating: New Masks Dataset/Validation/Mask/1794.jpg  \n",
            "  inflating: New Masks Dataset/Validation/Mask/1797.jpg  \n",
            "  inflating: New Masks Dataset/Validation/Mask/1802.jpg  \n",
            "  inflating: New Masks Dataset/Validation/Mask/1803.jpg  \n",
            "  inflating: New Masks Dataset/Validation/Mask/1804.jpg  \n",
            "  inflating: New Masks Dataset/Validation/Mask/1818.jpg  \n",
            "  inflating: New Masks Dataset/Validation/Mask/1828.jpg  \n",
            "  inflating: New Masks Dataset/Validation/Mask/1829.jpg  \n",
            "  inflating: New Masks Dataset/Validation/Mask/1841.jpg  \n",
            "  inflating: New Masks Dataset/Validation/Mask/1843.jpg  \n",
            "  inflating: New Masks Dataset/Validation/Mask/1845.jpg  \n",
            "  inflating: New Masks Dataset/Validation/Mask/1848.jpg  \n",
            "  inflating: New Masks Dataset/Validation/Mask/1874.jpg  \n",
            "  inflating: New Masks Dataset/Validation/Mask/1876.jpg  \n",
            "  inflating: New Masks Dataset/Validation/Mask/1877.jpg  \n",
            "  inflating: New Masks Dataset/Validation/Mask/1879.jpg  \n",
            "  inflating: New Masks Dataset/Validation/Mask/1880.jpg  \n",
            "  inflating: New Masks Dataset/Validation/Mask/1882.jpg  \n",
            "  inflating: New Masks Dataset/Validation/Mask/1887.jpg  \n",
            "  inflating: New Masks Dataset/Validation/Mask/1889.jpg  \n",
            "  inflating: New Masks Dataset/Validation/Mask/1891.jpg  \n",
            "  inflating: New Masks Dataset/Validation/Mask/1894.jpg  \n",
            "  inflating: New Masks Dataset/Validation/Mask/1896.jpg  \n",
            "  inflating: New Masks Dataset/Validation/Mask/1899.jpeg  \n",
            "  inflating: New Masks Dataset/Validation/Mask/1902.jpg  \n",
            "  inflating: New Masks Dataset/Validation/Mask/1905.jpg  \n",
            "  inflating: New Masks Dataset/Validation/Mask/1915.png  \n",
            "  inflating: New Masks Dataset/Validation/Mask/1917.jpg  \n",
            "  inflating: New Masks Dataset/Validation/Mask/1959.jpg  \n",
            "  inflating: New Masks Dataset/Validation/Mask/1961.png  \n",
            "  inflating: New Masks Dataset/Validation/Mask/1962.png  \n",
            "  inflating: New Masks Dataset/Validation/Mask/1963.png  \n",
            "  inflating: New Masks Dataset/Validation/Mask/1997.jpg  \n",
            "  inflating: New Masks Dataset/Validation/Mask/1998.jpg  \n",
            "  inflating: New Masks Dataset/Validation/Mask/2001.jpg  \n",
            "  inflating: New Masks Dataset/Validation/Mask/2004.jpg  \n",
            "  inflating: New Masks Dataset/Validation/Mask/2012.jpg  \n",
            "  inflating: New Masks Dataset/Validation/Mask/2022.jpg  \n",
            "  inflating: New Masks Dataset/Validation/Mask/2025.jpg  \n",
            "  inflating: New Masks Dataset/Validation/Mask/2063.jpg  \n",
            "  inflating: New Masks Dataset/Validation/Mask/2069.jpg  \n",
            "  inflating: New Masks Dataset/Validation/Mask/2314.png  \n",
            "  inflating: New Masks Dataset/Validation/Mask/2315.png  \n",
            "  inflating: New Masks Dataset/Validation/Mask/2316.png  \n",
            "  inflating: New Masks Dataset/Validation/Mask/2317.png  \n",
            "  inflating: New Masks Dataset/Validation/Mask/2321.png  \n",
            "  inflating: New Masks Dataset/Validation/Mask/2324.png  \n",
            "  inflating: New Masks Dataset/Validation/Mask/2325.png  \n",
            "  inflating: New Masks Dataset/Validation/Mask/2333.png  \n",
            "  inflating: New Masks Dataset/Validation/Mask/2334.png  \n",
            "  inflating: New Masks Dataset/Validation/Mask/2335.png  \n",
            "  inflating: New Masks Dataset/Validation/Mask/2337.png  \n",
            "  inflating: New Masks Dataset/Validation/Mask/2338.png  \n",
            "  inflating: New Masks Dataset/Validation/Mask/2339.png  \n",
            "  inflating: New Masks Dataset/Validation/Mask/2343.png  \n",
            "  inflating: New Masks Dataset/Validation/Mask/2345.png  \n",
            "  inflating: New Masks Dataset/Validation/Mask/2350.png  \n",
            "  inflating: New Masks Dataset/Validation/Mask/2357.png  \n",
            "  inflating: New Masks Dataset/Validation/Mask/2375.png  \n",
            "  inflating: New Masks Dataset/Validation/Mask/2378.png  \n",
            "  inflating: New Masks Dataset/Validation/Mask/2385.png  \n",
            "  inflating: New Masks Dataset/Validation/Mask/2386.png  \n",
            "  inflating: New Masks Dataset/Validation/Mask/2387.png  \n",
            "  inflating: New Masks Dataset/Validation/Mask/2388.png  \n",
            "  inflating: New Masks Dataset/Validation/Mask/2389.png  \n",
            "  inflating: New Masks Dataset/Validation/Mask/2393.png  \n",
            "  inflating: New Masks Dataset/Validation/Mask/2396.png  \n",
            "  inflating: New Masks Dataset/Validation/Mask/2398.png  \n",
            "  inflating: New Masks Dataset/Validation/Mask/2399.png  \n",
            "  inflating: New Masks Dataset/Validation/Mask/2400.png  \n",
            "  inflating: New Masks Dataset/Validation/Mask/2403.png  \n",
            "  inflating: New Masks Dataset/Validation/Mask/2407.png  \n",
            "  inflating: New Masks Dataset/Validation/Mask/2408.png  \n",
            "  inflating: New Masks Dataset/Validation/Mask/2409.png  \n",
            "  inflating: New Masks Dataset/Validation/Mask/2413.png  \n",
            "  inflating: New Masks Dataset/Validation/Mask/2418.png  \n",
            "  inflating: New Masks Dataset/Validation/Mask/2455.png  \n",
            "  inflating: New Masks Dataset/Validation/Mask/2456.png  \n",
            "  inflating: New Masks Dataset/Validation/Mask/2459.png  \n",
            "  inflating: New Masks Dataset/Validation/Mask/2463.png  \n",
            "  inflating: New Masks Dataset/Validation/Mask/2465.png  \n",
            "  inflating: New Masks Dataset/Validation/Mask/2467.png  \n",
            "  inflating: New Masks Dataset/Validation/Mask/2470.png  \n",
            "  inflating: New Masks Dataset/Validation/Mask/2471.png  \n",
            "  inflating: New Masks Dataset/Validation/Mask/2472.png  \n",
            "  inflating: New Masks Dataset/Validation/Mask/2473.png  \n",
            "  inflating: New Masks Dataset/Validation/Mask/2475.png  \n",
            "  inflating: New Masks Dataset/Validation/Mask/2476.png  \n",
            "  inflating: New Masks Dataset/Validation/Mask/2478.png  \n",
            "  inflating: New Masks Dataset/Validation/Mask/2483.png  \n",
            "  inflating: New Masks Dataset/Validation/Mask/2488.png  \n",
            "  inflating: New Masks Dataset/Validation/Mask/2490.png  \n",
            "  inflating: New Masks Dataset/Validation/Mask/2523.png  \n",
            "  inflating: New Masks Dataset/Validation/Mask/2525.png  \n",
            "  inflating: New Masks Dataset/Validation/Mask/2526.png  \n",
            "  inflating: New Masks Dataset/Validation/Mask/2530.png  \n",
            "  inflating: New Masks Dataset/Validation/Mask/2533.png  \n",
            "  inflating: New Masks Dataset/Validation/Mask/2534.png  \n",
            "  inflating: New Masks Dataset/Validation/Mask/2538.png  \n",
            "  inflating: New Masks Dataset/Validation/Mask/2539.png  \n",
            "  inflating: New Masks Dataset/Validation/Mask/2542.png  \n",
            "  inflating: New Masks Dataset/Validation/Mask/2543.png  \n",
            "  inflating: New Masks Dataset/Validation/Mask/2544.png  \n",
            "  inflating: New Masks Dataset/Validation/Mask/2551.png  \n",
            "  inflating: New Masks Dataset/Validation/Mask/2553.png  \n",
            "  inflating: New Masks Dataset/Validation/Mask/2558.png  \n",
            "  inflating: New Masks Dataset/Validation/Mask/2574.png  \n",
            "  inflating: New Masks Dataset/Validation/Mask/2577.png  \n",
            "  inflating: New Masks Dataset/Validation/Mask/2578.png  \n",
            "  inflating: New Masks Dataset/Validation/Mask/2579.png  \n",
            "  inflating: New Masks Dataset/Validation/Mask/2580.png  \n",
            "  inflating: New Masks Dataset/Validation/Mask/2581.png  \n",
            "  inflating: New Masks Dataset/Validation/Mask/2584.png  \n",
            "  inflating: New Masks Dataset/Validation/Mask/2586.png  \n",
            "  inflating: New Masks Dataset/Validation/Mask/2588.png  \n",
            "  inflating: New Masks Dataset/Validation/Mask/2591.png  \n",
            "  inflating: New Masks Dataset/Validation/Mask/2592.png  \n",
            "  inflating: New Masks Dataset/Validation/Mask/2594.png  \n",
            "  inflating: New Masks Dataset/Validation/Mask/2595.png  \n",
            "  inflating: New Masks Dataset/Validation/Mask/2598.png  \n",
            "  inflating: New Masks Dataset/Validation/Mask/2600.png  \n",
            "  inflating: New Masks Dataset/Validation/Mask/2601.png  \n",
            "  inflating: New Masks Dataset/Validation/Mask/2602.png  \n",
            "  inflating: New Masks Dataset/Validation/Mask/2638.png  \n",
            "  inflating: New Masks Dataset/Validation/Mask/2639.png  \n",
            "  inflating: New Masks Dataset/Validation/Mask/2641.png  \n",
            "  inflating: New Masks Dataset/Validation/Mask/2642.png  \n",
            "  inflating: New Masks Dataset/Validation/Mask/2646.png  \n",
            "  inflating: New Masks Dataset/Validation/Mask/2650.png  \n",
            "  inflating: New Masks Dataset/Validation/Mask/2651.png  \n",
            "  inflating: New Masks Dataset/Validation/Mask/2655.png  \n",
            "  inflating: New Masks Dataset/Validation/Mask/2656.png  \n",
            "  inflating: New Masks Dataset/Validation/Mask/2657.png  \n",
            "  inflating: New Masks Dataset/Validation/Mask/2659.png  \n",
            "  inflating: New Masks Dataset/Validation/Mask/2662.png  \n",
            "  inflating: New Masks Dataset/Validation/Mask/2664.png  \n",
            "  inflating: New Masks Dataset/Validation/Mask/6414.png  \n",
            "  inflating: New Masks Dataset/Validation/Mask/6415.png  \n",
            "  inflating: New Masks Dataset/Validation/Mask/6416.png  \n",
            "  inflating: New Masks Dataset/Validation/Mask/6417.png  \n",
            "  inflating: New Masks Dataset/Validation/Mask/6423.png  \n",
            "  inflating: New Masks Dataset/Validation/Mask/6428.png  \n",
            "  inflating: New Masks Dataset/Validation/Mask/6430.png  \n",
            "  inflating: New Masks Dataset/Validation/Mask/6434.jpg  \n",
            "  inflating: New Masks Dataset/Validation/Non Mask/real_00001.jpg  \n",
            "  inflating: New Masks Dataset/Validation/Non Mask/real_00002.jpg  \n",
            "  inflating: New Masks Dataset/Validation/Non Mask/real_00003.jpg  \n",
            "  inflating: New Masks Dataset/Validation/Non Mask/real_00004.jpg  \n",
            "  inflating: New Masks Dataset/Validation/Non Mask/real_00005.jpg  \n",
            "  inflating: New Masks Dataset/Validation/Non Mask/real_00006.jpg  \n",
            "  inflating: New Masks Dataset/Validation/Non Mask/real_00007.jpg  \n",
            "  inflating: New Masks Dataset/Validation/Non Mask/real_00008.jpg  \n",
            "  inflating: New Masks Dataset/Validation/Non Mask/real_00009.jpg  \n",
            "  inflating: New Masks Dataset/Validation/Non Mask/real_00010.jpg  \n",
            "  inflating: New Masks Dataset/Validation/Non Mask/real_00011.jpg  \n",
            "  inflating: New Masks Dataset/Validation/Non Mask/real_00012.jpg  \n",
            "  inflating: New Masks Dataset/Validation/Non Mask/real_00013.jpg  \n",
            "  inflating: New Masks Dataset/Validation/Non Mask/real_00014.jpg  \n",
            "  inflating: New Masks Dataset/Validation/Non Mask/real_00015.jpg  \n",
            "  inflating: New Masks Dataset/Validation/Non Mask/real_00016.jpg  \n",
            "  inflating: New Masks Dataset/Validation/Non Mask/real_00017.jpg  \n",
            "  inflating: New Masks Dataset/Validation/Non Mask/real_00018.jpg  \n",
            "  inflating: New Masks Dataset/Validation/Non Mask/real_00019.jpg  \n",
            "  inflating: New Masks Dataset/Validation/Non Mask/real_00020.jpg  \n",
            "  inflating: New Masks Dataset/Validation/Non Mask/real_00021.jpg  \n",
            "  inflating: New Masks Dataset/Validation/Non Mask/real_00022.jpg  \n",
            "  inflating: New Masks Dataset/Validation/Non Mask/real_00023.jpg  \n",
            "  inflating: New Masks Dataset/Validation/Non Mask/real_00024.jpg  \n",
            "  inflating: New Masks Dataset/Validation/Non Mask/real_00025.jpg  \n",
            "  inflating: New Masks Dataset/Validation/Non Mask/real_00026.jpg  \n",
            "  inflating: New Masks Dataset/Validation/Non Mask/real_00027.jpg  \n",
            "  inflating: New Masks Dataset/Validation/Non Mask/real_00028.jpg  \n",
            "  inflating: New Masks Dataset/Validation/Non Mask/real_00029.jpg  \n",
            "  inflating: New Masks Dataset/Validation/Non Mask/real_00030.jpg  \n",
            "  inflating: New Masks Dataset/Validation/Non Mask/real_00031.jpg  \n",
            "  inflating: New Masks Dataset/Validation/Non Mask/real_00032.jpg  \n",
            "  inflating: New Masks Dataset/Validation/Non Mask/real_00033.jpg  \n",
            "  inflating: New Masks Dataset/Validation/Non Mask/real_00034.jpg  \n",
            "  inflating: New Masks Dataset/Validation/Non Mask/real_00035.jpg  \n",
            "  inflating: New Masks Dataset/Validation/Non Mask/real_00036.jpg  \n",
            "  inflating: New Masks Dataset/Validation/Non Mask/real_00037.jpg  \n",
            "  inflating: New Masks Dataset/Validation/Non Mask/real_00038.jpg  \n",
            "  inflating: New Masks Dataset/Validation/Non Mask/real_00039.jpg  \n",
            "  inflating: New Masks Dataset/Validation/Non Mask/real_00040.jpg  \n",
            "  inflating: New Masks Dataset/Validation/Non Mask/real_00041.jpg  \n",
            "  inflating: New Masks Dataset/Validation/Non Mask/real_00042.jpg  \n",
            "  inflating: New Masks Dataset/Validation/Non Mask/real_00043.jpg  \n",
            "  inflating: New Masks Dataset/Validation/Non Mask/real_00044.jpg  \n",
            "  inflating: New Masks Dataset/Validation/Non Mask/real_00045.jpg  \n",
            "  inflating: New Masks Dataset/Validation/Non Mask/real_00046.jpg  \n",
            "  inflating: New Masks Dataset/Validation/Non Mask/real_00047.jpg  \n",
            "  inflating: New Masks Dataset/Validation/Non Mask/real_00048.jpg  \n",
            "  inflating: New Masks Dataset/Validation/Non Mask/real_00049.jpg  \n",
            "  inflating: New Masks Dataset/Validation/Non Mask/real_00050.jpg  \n",
            "  inflating: New Masks Dataset/Validation/Non Mask/real_00051.jpg  \n",
            "  inflating: New Masks Dataset/Validation/Non Mask/real_00052.jpg  \n",
            "  inflating: New Masks Dataset/Validation/Non Mask/real_00053.jpg  \n",
            "  inflating: New Masks Dataset/Validation/Non Mask/real_00054.jpg  \n",
            "  inflating: New Masks Dataset/Validation/Non Mask/real_00055.jpg  \n",
            "  inflating: New Masks Dataset/Validation/Non Mask/real_00056.jpg  \n",
            "  inflating: New Masks Dataset/Validation/Non Mask/real_00057.jpg  \n",
            "  inflating: New Masks Dataset/Validation/Non Mask/real_00058.jpg  \n",
            "  inflating: New Masks Dataset/Validation/Non Mask/real_00059.jpg  \n",
            "  inflating: New Masks Dataset/Validation/Non Mask/real_00060.jpg  \n",
            "  inflating: New Masks Dataset/Validation/Non Mask/real_00061.jpg  \n",
            "  inflating: New Masks Dataset/Validation/Non Mask/real_00062.jpg  \n",
            "  inflating: New Masks Dataset/Validation/Non Mask/real_00063.jpg  \n",
            "  inflating: New Masks Dataset/Validation/Non Mask/real_00064.jpg  \n",
            "  inflating: New Masks Dataset/Validation/Non Mask/real_00065.jpg  \n",
            "  inflating: New Masks Dataset/Validation/Non Mask/real_00066.jpg  \n",
            "  inflating: New Masks Dataset/Validation/Non Mask/real_00067.jpg  \n",
            "  inflating: New Masks Dataset/Validation/Non Mask/real_00068.jpg  \n",
            "  inflating: New Masks Dataset/Validation/Non Mask/real_00069.jpg  \n",
            "  inflating: New Masks Dataset/Validation/Non Mask/real_00070.jpg  \n",
            "  inflating: New Masks Dataset/Validation/Non Mask/real_00071.jpg  \n",
            "  inflating: New Masks Dataset/Validation/Non Mask/real_00072.jpg  \n",
            "  inflating: New Masks Dataset/Validation/Non Mask/real_00073.jpg  \n",
            "  inflating: New Masks Dataset/Validation/Non Mask/real_00074.jpg  \n",
            "  inflating: New Masks Dataset/Validation/Non Mask/real_00075.jpg  \n",
            "  inflating: New Masks Dataset/Validation/Non Mask/real_00076.jpg  \n",
            "  inflating: New Masks Dataset/Validation/Non Mask/real_00077.jpg  \n",
            "  inflating: New Masks Dataset/Validation/Non Mask/real_00078.jpg  \n",
            "  inflating: New Masks Dataset/Validation/Non Mask/real_00079.jpg  \n",
            "  inflating: New Masks Dataset/Validation/Non Mask/real_00080.jpg  \n",
            "  inflating: New Masks Dataset/Validation/Non Mask/real_00081.jpg  \n",
            "  inflating: New Masks Dataset/Validation/Non Mask/real_00082.jpg  \n",
            "  inflating: New Masks Dataset/Validation/Non Mask/real_00083.jpg  \n",
            "  inflating: New Masks Dataset/Validation/Non Mask/real_00084.jpg  \n",
            "  inflating: New Masks Dataset/Validation/Non Mask/real_00085.jpg  \n",
            "  inflating: New Masks Dataset/Validation/Non Mask/real_00086.jpg  \n",
            "  inflating: New Masks Dataset/Validation/Non Mask/real_00087.jpg  \n",
            "  inflating: New Masks Dataset/Validation/Non Mask/real_00088.jpg  \n",
            "  inflating: New Masks Dataset/Validation/Non Mask/real_00089.jpg  \n",
            "  inflating: New Masks Dataset/Validation/Non Mask/real_00090.jpg  \n",
            "  inflating: New Masks Dataset/Validation/Non Mask/real_00091.jpg  \n",
            "  inflating: New Masks Dataset/Validation/Non Mask/real_00092.jpg  \n",
            "  inflating: New Masks Dataset/Validation/Non Mask/real_00093.jpg  \n",
            "  inflating: New Masks Dataset/Validation/Non Mask/real_00094.jpg  \n",
            "  inflating: New Masks Dataset/Validation/Non Mask/real_00095.jpg  \n",
            "  inflating: New Masks Dataset/Validation/Non Mask/real_00096.jpg  \n",
            "  inflating: New Masks Dataset/Validation/Non Mask/real_00097.jpg  \n",
            "  inflating: New Masks Dataset/Validation/Non Mask/real_00098.jpg  \n",
            "  inflating: New Masks Dataset/Validation/Non Mask/real_00099.jpg  \n",
            "  inflating: New Masks Dataset/Validation/Non Mask/real_00100.jpg  \n",
            "  inflating: New Masks Dataset/Validation/Non Mask/real_00101.jpg  \n",
            "  inflating: New Masks Dataset/Validation/Non Mask/real_00152.jpg  \n",
            "  inflating: New Masks Dataset/Validation/Non Mask/real_00155.jpg  \n",
            "  inflating: New Masks Dataset/Validation/Non Mask/real_00982.jpg  \n",
            "  inflating: New Masks Dataset/Validation/Non Mask/real_00983.jpg  \n",
            "  inflating: New Masks Dataset/Validation/Non Mask/real_00984.jpg  \n",
            "  inflating: New Masks Dataset/Validation/Non Mask/real_00985.jpg  \n",
            "  inflating: New Masks Dataset/Validation/Non Mask/real_00986.jpg  \n",
            "  inflating: New Masks Dataset/Validation/Non Mask/real_00987.jpg  \n",
            "  inflating: New Masks Dataset/Validation/Non Mask/real_00988.jpg  \n",
            "  inflating: New Masks Dataset/Validation/Non Mask/real_00989.jpg  \n",
            "  inflating: New Masks Dataset/Validation/Non Mask/real_00990.jpg  \n",
            "  inflating: New Masks Dataset/Validation/Non Mask/real_00991.jpg  \n",
            "  inflating: New Masks Dataset/Validation/Non Mask/real_00992.jpg  \n",
            "  inflating: New Masks Dataset/Validation/Non Mask/real_00993.jpg  \n",
            "  inflating: New Masks Dataset/Validation/Non Mask/real_00994.jpg  \n",
            "  inflating: New Masks Dataset/Validation/Non Mask/real_00995.jpg  \n",
            "  inflating: New Masks Dataset/Validation/Non Mask/real_00996.jpg  \n",
            "  inflating: New Masks Dataset/Validation/Non Mask/real_00997.jpg  \n",
            "  inflating: New Masks Dataset/Validation/Non Mask/real_00998.jpg  \n",
            "  inflating: New Masks Dataset/Validation/Non Mask/real_00999.jpg  \n",
            "  inflating: New Masks Dataset/Validation/Non Mask/real_01000.jpg  \n",
            "  inflating: New Masks Dataset/Validation/Non Mask/real_01001.jpg  \n",
            "  inflating: New Masks Dataset/Validation/Non Mask/real_01002.jpg  \n",
            "  inflating: New Masks Dataset/Validation/Non Mask/real_01003.jpg  \n",
            "  inflating: New Masks Dataset/Validation/Non Mask/real_01004.jpg  \n",
            "  inflating: New Masks Dataset/Validation/Non Mask/real_01005.jpg  \n",
            "  inflating: New Masks Dataset/Validation/Non Mask/real_01006.jpg  \n",
            "  inflating: New Masks Dataset/Validation/Non Mask/real_01007.jpg  \n",
            "  inflating: New Masks Dataset/Validation/Non Mask/real_01008.jpg  \n",
            "  inflating: New Masks Dataset/Validation/Non Mask/real_01009.jpg  \n",
            "  inflating: New Masks Dataset/Validation/Non Mask/real_01010.jpg  \n",
            "  inflating: New Masks Dataset/Validation/Non Mask/real_01011.jpg  \n",
            "  inflating: New Masks Dataset/Validation/Non Mask/real_01012.jpg  \n",
            "  inflating: New Masks Dataset/Validation/Non Mask/real_01013.jpg  \n",
            "  inflating: New Masks Dataset/Validation/Non Mask/real_01014.jpg  \n",
            "  inflating: New Masks Dataset/Validation/Non Mask/real_01015.jpg  \n",
            "  inflating: New Masks Dataset/Validation/Non Mask/real_01016.jpg  \n",
            "  inflating: New Masks Dataset/Validation/Non Mask/real_01017.jpg  \n",
            "  inflating: New Masks Dataset/Validation/Non Mask/real_01018.jpg  \n",
            "  inflating: New Masks Dataset/Validation/Non Mask/real_01019.jpg  \n",
            "  inflating: New Masks Dataset/Validation/Non Mask/real_01020.jpg  \n",
            "  inflating: New Masks Dataset/Validation/Non Mask/real_01021.jpg  \n",
            "  inflating: New Masks Dataset/Validation/Non Mask/real_01022.jpg  \n",
            "  inflating: New Masks Dataset/Validation/Non Mask/real_01023.jpg  \n",
            "  inflating: New Masks Dataset/Validation/Non Mask/real_01024.jpg  \n",
            "  inflating: New Masks Dataset/Validation/Non Mask/real_01025.jpg  \n",
            "  inflating: New Masks Dataset/Validation/Non Mask/real_01026.jpg  \n",
            "  inflating: New Masks Dataset/Validation/Non Mask/real_01027.jpg  \n",
            "  inflating: New Masks Dataset/Validation/Non Mask/real_01028.jpg  \n",
            "  inflating: New Masks Dataset/Validation/Non Mask/real_01029.jpg  \n",
            "  inflating: New Masks Dataset/Validation/Non Mask/real_01030.jpg  \n",
            "  inflating: New Masks Dataset/Validation/Non Mask/real_01031.jpg  \n"
          ],
          "name": "stdout"
        }
      ]
    },
    {
      "cell_type": "code",
      "metadata": {
        "id": "zRJ2h0IE0x-T"
      },
      "source": [
        "main_dir='/content/New Masks Dataset'\r\n",
        "test_dir=os.path.join(main_dir,'Test')\r\n",
        "train_dir=os.path.join(main_dir,'Train')\r\n",
        "valid_dir=os.path.join(main_dir,'Validation')\r\n",
        "train_mask_dir=os.path.join(train_dir,'Mask')\r\n",
        "train_nomask_dir=os.path.join(train_dir,'Non Mask')"
      ],
      "execution_count": 5,
      "outputs": []
    },
    {
      "cell_type": "code",
      "metadata": {
        "colab": {
          "base_uri": "https://localhost:8080/"
        },
        "id": "guNs3QQW01Ub",
        "outputId": "7cb72bc4-42f1-4eb8-8b91-8eee618dbafa"
      },
      "source": [
        "train_mask_names = os.listdir(train_mask_dir)\r\n",
        "print(train_mask_names[:10])"
      ],
      "execution_count": 6,
      "outputs": [
        {
          "output_type": "stream",
          "text": [
            "['1556.jpg', '0113.jpg', '0171.jpg', '1338.jpg', '0158.jpg', '1471.jpg', '1096.jpg', '0481.jpg', '0770.jpg', '0784.jpg']\n"
          ],
          "name": "stdout"
        }
      ]
    },
    {
      "cell_type": "code",
      "metadata": {
        "colab": {
          "base_uri": "https://localhost:8080/"
        },
        "id": "oCgH3m7904Dh",
        "outputId": "45106ccd-efca-4941-ed21-8149b9913ddc"
      },
      "source": [
        "train_nomask_names = os.listdir(train_nomask_dir)\r\n",
        "print(train_nomask_names[:10])"
      ],
      "execution_count": 7,
      "outputs": [
        {
          "output_type": "stream",
          "text": [
            "['114.jpg', '201.jpg', '178.jpg', '352.jpg', '89.jpg', '302.jpg', '259.jpg', '300.jpg', '124.jpg', '15.jpg']\n"
          ],
          "name": "stdout"
        }
      ]
    },
    {
      "cell_type": "code",
      "metadata": {
        "colab": {
          "base_uri": "https://localhost:8080/",
          "height": 50
        },
        "id": "hKhdAc7G19Ch",
        "outputId": "703cde16-2b96-47b6-f285-e4d3f90a8acd"
      },
      "source": [
        "nrows = 4\r\n",
        "ncols = 4\r\n",
        "plt.figure(figsize = (12, 12))"
      ],
      "execution_count": 8,
      "outputs": [
        {
          "output_type": "execute_result",
          "data": {
            "text/plain": [
              "<Figure size 864x864 with 0 Axes>"
            ]
          },
          "metadata": {
            "tags": []
          },
          "execution_count": 8
        },
        {
          "output_type": "display_data",
          "data": {
            "text/plain": [
              "<Figure size 864x864 with 0 Axes>"
            ]
          },
          "metadata": {
            "tags": []
          }
        }
      ]
    },
    {
      "cell_type": "code",
      "metadata": {
        "colab": {
          "base_uri": "https://localhost:8080/"
        },
        "id": "T9H1KZK-22XL",
        "outputId": "9fb92111-6637-423e-eaca-9a34b6a30601"
      },
      "source": [
        "mask_pic = []\r\n",
        "for i in train_mask_names[0:8]:\r\n",
        "  mask_pic.append(os.path.join(train_mask_dir, i))\r\n",
        "print(mask_pic)  \r\n"
      ],
      "execution_count": 9,
      "outputs": [
        {
          "output_type": "stream",
          "text": [
            "['/content/New Masks Dataset/Train/Mask/1556.jpg', '/content/New Masks Dataset/Train/Mask/0113.jpg', '/content/New Masks Dataset/Train/Mask/0171.jpg', '/content/New Masks Dataset/Train/Mask/1338.jpg', '/content/New Masks Dataset/Train/Mask/0158.jpg', '/content/New Masks Dataset/Train/Mask/1471.jpg', '/content/New Masks Dataset/Train/Mask/1096.jpg', '/content/New Masks Dataset/Train/Mask/0481.jpg']\n"
          ],
          "name": "stdout"
        }
      ]
    },
    {
      "cell_type": "code",
      "metadata": {
        "colab": {
          "base_uri": "https://localhost:8080/"
        },
        "id": "aHGScA3i4rTR",
        "outputId": "ca9b2b32-a8ab-46e4-fa33-f7d3d876cb51"
      },
      "source": [
        "nomask_pic = []\r\n",
        "for i in train_nomask_names[0:8]:\r\n",
        "  nomask_pic.append(os.path.join(train_nomask_dir, i))\r\n",
        "print(nomask_pic)\r\n"
      ],
      "execution_count": 10,
      "outputs": [
        {
          "output_type": "stream",
          "text": [
            "['/content/New Masks Dataset/Train/Non Mask/114.jpg', '/content/New Masks Dataset/Train/Non Mask/201.jpg', '/content/New Masks Dataset/Train/Non Mask/178.jpg', '/content/New Masks Dataset/Train/Non Mask/352.jpg', '/content/New Masks Dataset/Train/Non Mask/89.jpg', '/content/New Masks Dataset/Train/Non Mask/302.jpg', '/content/New Masks Dataset/Train/Non Mask/259.jpg', '/content/New Masks Dataset/Train/Non Mask/300.jpg']\n"
          ],
          "name": "stdout"
        }
      ]
    },
    {
      "cell_type": "code",
      "metadata": {
        "colab": {
          "base_uri": "https://localhost:8080/"
        },
        "id": "rJwFIlPL8KMs",
        "outputId": "7d2bb650-9a77-4aef-ebeb-41402cd56e81"
      },
      "source": [
        "merged_list = mask_pic + nomask_pic\r\n",
        "print(merged_list)"
      ],
      "execution_count": 11,
      "outputs": [
        {
          "output_type": "stream",
          "text": [
            "['/content/New Masks Dataset/Train/Mask/1556.jpg', '/content/New Masks Dataset/Train/Mask/0113.jpg', '/content/New Masks Dataset/Train/Mask/0171.jpg', '/content/New Masks Dataset/Train/Mask/1338.jpg', '/content/New Masks Dataset/Train/Mask/0158.jpg', '/content/New Masks Dataset/Train/Mask/1471.jpg', '/content/New Masks Dataset/Train/Mask/1096.jpg', '/content/New Masks Dataset/Train/Mask/0481.jpg', '/content/New Masks Dataset/Train/Non Mask/114.jpg', '/content/New Masks Dataset/Train/Non Mask/201.jpg', '/content/New Masks Dataset/Train/Non Mask/178.jpg', '/content/New Masks Dataset/Train/Non Mask/352.jpg', '/content/New Masks Dataset/Train/Non Mask/89.jpg', '/content/New Masks Dataset/Train/Non Mask/302.jpg', '/content/New Masks Dataset/Train/Non Mask/259.jpg', '/content/New Masks Dataset/Train/Non Mask/300.jpg']\n"
          ],
          "name": "stdout"
        }
      ]
    },
    {
      "cell_type": "code",
      "metadata": {
        "colab": {
          "base_uri": "https://localhost:8080/",
          "height": 262
        },
        "id": "e_Eo69ke82wp",
        "outputId": "1552badd-5ed3-41a9-ae6c-3ee13f9278a8"
      },
      "source": [
        "for i in range(0, len(merged_list)):\r\n",
        "  data = merged_list[i].split('/', 4)[4]\r\n",
        "  sp = plt.subplot(nrows, ncols, i+1)\r\n",
        "  sp.axis('Off')\r\n",
        "  image = mpimg.imread(merged_list[i])\r\n",
        "  sp.set_title(data, fontsize = 10)\r\n",
        "  sp.imshow(image, cmap = 'gray')\r\n",
        "\r\n",
        "\r\n"
      ],
      "execution_count": 12,
      "outputs": [
        {
          "output_type": "display_data",
          "data": {
            "image/png": "[encoded data removed]",
            "text/plain": [
              "<Figure size 432x288 with 16 Axes>"
            ]
          },
          "metadata": {
            "tags": [],
            "needs_background": "light"
          }
        }
      ]
    },
    {
      "cell_type": "code",
      "metadata": {
        "id": "o2isZjFu8d1z",
        "colab": {
          "base_uri": "https://localhost:8080/"
        },
        "outputId": "5a331605-548b-49a0-88e6-577c91882573"
      },
      "source": [
        "train_datagen = ImageDataGenerator(rescale = 1./255, zoom_range = 0.2, rotation_range = 40, horizontal_flip = True)\r\n",
        "test_datagen = ImageDataGenerator(rescale = 1./255)\r\n",
        "validation_datagen = ImageDataGenerator(rescale = 1./255)\r\n",
        "train_generator = train_datagen.flow_from_directory(train_dir, target_size = (150,150), batch_size=32, class_mode='binary')\r\n",
        "test_generator = test_datagen.flow_from_directory(test_dir, target_size = (150,150), batch_size=32, class_mode='binary')\r\n",
        "valid_generator = validation_datagen.flow_from_directory(valid_dir, target_size = (150,150), batch_size=32, class_mode='binary')"
      ],
      "execution_count": 13,
      "outputs": [
        {
          "output_type": "stream",
          "text": [
            "Found 600 images belonging to 2 classes.\n",
            "Found 100 images belonging to 2 classes.\n",
            "Found 306 images belonging to 2 classes.\n"
          ],
          "name": "stdout"
        }
      ]
    },
    {
      "cell_type": "code",
      "metadata": {
        "id": "O_CWRp5hFOSE",
        "colab": {
          "base_uri": "https://localhost:8080/"
        },
        "outputId": "3c45b46a-630a-4073-dda3-20435bf104b9"
      },
      "source": [
        "train_generator.class_indices"
      ],
      "execution_count": 14,
      "outputs": [
        {
          "output_type": "execute_result",
          "data": {
            "text/plain": [
              "{'Mask': 0, 'Non Mask': 1}"
            ]
          },
          "metadata": {
            "tags": []
          },
          "execution_count": 14
        }
      ]
    },
    {
      "cell_type": "code",
      "metadata": {
        "colab": {
          "base_uri": "https://localhost:8080/"
        },
        "id": "Lu80CZgKQ9yd",
        "outputId": "215a62ee-b1af-4777-af88-a69268c2f268"
      },
      "source": [
        "train_generator.image_shape"
      ],
      "execution_count": 15,
      "outputs": [
        {
          "output_type": "execute_result",
          "data": {
            "text/plain": [
              "(150, 150, 3)"
            ]
          },
          "metadata": {
            "tags": []
          },
          "execution_count": 15
        }
      ]
    },
    {
      "cell_type": "code",
      "metadata": {
        "colab": {
          "base_uri": "https://localhost:8080/"
        },
        "id": "VmHN8Al_vJZw",
        "outputId": "4ad5c01b-a247-47bb-db70-7624f7ae2e3a"
      },
      "source": [
        "model = Sequential()\r\n",
        "model.add(Conv2D(32, (3,3), padding = 'SAME', activation = 'relu', input_shape = (150,150,3)))\r\n",
        "model.add(MaxPooling2D(pool_size = (2,2)))\r\n",
        "model.add(Dropout(0.5))\r\n",
        "model.add(Conv2D(64, (3,3), padding = 'SAME', activation = 'relu'))\r\n",
        "model.add(MaxPooling2D(pool_size = (2,2)))\r\n",
        "model.add(Dropout(0.5))\r\n",
        "model.add(Flatten())\r\n",
        "model.add(Dense(256, activation = 'relu'))\r\n",
        "model.add(Dropout(0.5))\r\n",
        "model.add(Dense(1, activation = 'sigmoid'))\r\n",
        "model.summary()\r\n",
        "model.compile(Adam(lr = 0.001), loss='binary_crossentropy', metrics=['accuracy'])"
      ],
      "execution_count": 16,
      "outputs": [
        {
          "output_type": "stream",
          "text": [
            "Model: \"sequential\"\n",
            "_________________________________________________________________\n",
            "Layer (type)                 Output Shape              Param #   \n",
            "=================================================================\n",
            "conv2d (Conv2D)              (None, 150, 150, 32)      896       \n",
            "_________________________________________________________________\n",
            "max_pooling2d (MaxPooling2D) (None, 75, 75, 32)        0         \n",
            "_________________________________________________________________\n",
            "dropout (Dropout)            (None, 75, 75, 32)        0         \n",
            "_________________________________________________________________\n",
            "conv2d_1 (Conv2D)            (None, 75, 75, 64)        18496     \n",
            "_________________________________________________________________\n",
            "max_pooling2d_1 (MaxPooling2 (None, 37, 37, 64)        0         \n",
            "_________________________________________________________________\n",
            "dropout_1 (Dropout)          (None, 37, 37, 64)        0         \n",
            "_________________________________________________________________\n",
            "flatten (Flatten)            (None, 87616)             0         \n",
            "_________________________________________________________________\n",
            "dense (Dense)                (None, 256)               22429952  \n",
            "_________________________________________________________________\n",
            "dropout_2 (Dropout)          (None, 256)               0         \n",
            "_________________________________________________________________\n",
            "dense_1 (Dense)              (None, 1)                 257       \n",
            "=================================================================\n",
            "Total params: 22,449,601\n",
            "Trainable params: 22,449,601\n",
            "Non-trainable params: 0\n",
            "_________________________________________________________________\n"
          ],
          "name": "stdout"
        }
      ]
    },
    {
      "cell_type": "code",
      "metadata": {
        "colab": {
          "base_uri": "https://localhost:8080/"
        },
        "id": "u0AuY_ZI6UuU",
        "outputId": "2cb23560-134c-4a3a-e018-fbeec67fe784"
      },
      "source": [
        "history=model.fit(train_generator, epochs=30, validation_data = valid_generator)"
      ],
      "execution_count": 17,
      "outputs": [
        {
          "output_type": "stream",
          "text": [
            "Epoch 1/30\n",
            "19/19 [==============================] - 45s 685ms/step - loss: 4.7617 - accuracy: 0.4900 - val_loss: 0.6930 - val_accuracy: 0.5000\n",
            "Epoch 2/30\n",
            "19/19 [==============================] - 12s 630ms/step - loss: 0.6927 - accuracy: 0.5271 - val_loss: 0.6741 - val_accuracy: 0.7582\n",
            "Epoch 3/30\n",
            "19/19 [==============================] - 12s 637ms/step - loss: 0.5539 - accuracy: 0.7448 - val_loss: 0.4337 - val_accuracy: 0.8758\n",
            "Epoch 4/30\n",
            "19/19 [==============================] - 12s 644ms/step - loss: 0.4155 - accuracy: 0.8072 - val_loss: 0.3623 - val_accuracy: 0.8922\n",
            "Epoch 5/30\n",
            "19/19 [==============================] - 12s 651ms/step - loss: 0.3401 - accuracy: 0.8815 - val_loss: 0.3232 - val_accuracy: 0.9183\n",
            "Epoch 6/30\n",
            "19/19 [==============================] - 12s 646ms/step - loss: 0.3492 - accuracy: 0.8825 - val_loss: 0.2902 - val_accuracy: 0.8987\n",
            "Epoch 7/30\n",
            "19/19 [==============================] - 12s 642ms/step - loss: 0.3094 - accuracy: 0.8909 - val_loss: 0.3035 - val_accuracy: 0.8922\n",
            "Epoch 8/30\n",
            "19/19 [==============================] - 12s 644ms/step - loss: 0.2633 - accuracy: 0.9024 - val_loss: 0.3407 - val_accuracy: 0.8725\n",
            "Epoch 9/30\n",
            "19/19 [==============================] - 12s 645ms/step - loss: 0.3236 - accuracy: 0.8863 - val_loss: 0.2592 - val_accuracy: 0.9150\n",
            "Epoch 10/30\n",
            "19/19 [==============================] - 12s 633ms/step - loss: 0.2450 - accuracy: 0.9048 - val_loss: 0.2891 - val_accuracy: 0.9216\n",
            "Epoch 11/30\n",
            "19/19 [==============================] - 12s 646ms/step - loss: 0.2478 - accuracy: 0.9098 - val_loss: 0.2465 - val_accuracy: 0.9150\n",
            "Epoch 12/30\n",
            "19/19 [==============================] - 12s 642ms/step - loss: 0.2613 - accuracy: 0.9000 - val_loss: 0.2469 - val_accuracy: 0.9052\n",
            "Epoch 13/30\n",
            "19/19 [==============================] - 12s 637ms/step - loss: 0.2092 - accuracy: 0.9227 - val_loss: 0.2710 - val_accuracy: 0.8954\n",
            "Epoch 14/30\n",
            "19/19 [==============================] - 12s 635ms/step - loss: 0.2502 - accuracy: 0.9008 - val_loss: 0.2504 - val_accuracy: 0.9085\n",
            "Epoch 15/30\n",
            "19/19 [==============================] - 12s 639ms/step - loss: 0.1899 - accuracy: 0.9463 - val_loss: 0.2341 - val_accuracy: 0.9020\n",
            "Epoch 16/30\n",
            "19/19 [==============================] - 12s 632ms/step - loss: 0.1794 - accuracy: 0.9366 - val_loss: 0.2430 - val_accuracy: 0.9020\n",
            "Epoch 17/30\n",
            "19/19 [==============================] - 12s 640ms/step - loss: 0.2382 - accuracy: 0.9178 - val_loss: 0.2292 - val_accuracy: 0.9085\n",
            "Epoch 18/30\n",
            "19/19 [==============================] - 12s 645ms/step - loss: 0.1926 - accuracy: 0.9240 - val_loss: 0.2306 - val_accuracy: 0.9085\n",
            "Epoch 19/30\n",
            "19/19 [==============================] - 12s 648ms/step - loss: 0.1683 - accuracy: 0.9357 - val_loss: 0.2563 - val_accuracy: 0.9052\n",
            "Epoch 20/30\n",
            "19/19 [==============================] - 12s 634ms/step - loss: 0.2232 - accuracy: 0.9157 - val_loss: 0.2226 - val_accuracy: 0.9118\n",
            "Epoch 21/30\n",
            "19/19 [==============================] - 12s 638ms/step - loss: 0.1668 - accuracy: 0.9410 - val_loss: 0.2444 - val_accuracy: 0.8954\n",
            "Epoch 22/30\n",
            "19/19 [==============================] - 12s 646ms/step - loss: 0.1608 - accuracy: 0.9417 - val_loss: 0.2447 - val_accuracy: 0.9118\n",
            "Epoch 23/30\n",
            "19/19 [==============================] - 12s 657ms/step - loss: 0.1934 - accuracy: 0.9390 - val_loss: 0.2349 - val_accuracy: 0.9150\n",
            "Epoch 24/30\n",
            "19/19 [==============================] - 12s 663ms/step - loss: 0.1589 - accuracy: 0.9527 - val_loss: 0.2344 - val_accuracy: 0.9150\n",
            "Epoch 25/30\n",
            "19/19 [==============================] - 12s 666ms/step - loss: 0.1555 - accuracy: 0.9504 - val_loss: 0.2202 - val_accuracy: 0.9118\n",
            "Epoch 26/30\n",
            "19/19 [==============================] - 12s 660ms/step - loss: 0.1745 - accuracy: 0.9325 - val_loss: 0.2335 - val_accuracy: 0.9085\n",
            "Epoch 27/30\n",
            "19/19 [==============================] - 12s 652ms/step - loss: 0.1729 - accuracy: 0.9410 - val_loss: 0.2629 - val_accuracy: 0.9118\n",
            "Epoch 28/30\n",
            "19/19 [==============================] - 12s 644ms/step - loss: 0.2025 - accuracy: 0.9046 - val_loss: 0.2320 - val_accuracy: 0.9020\n",
            "Epoch 29/30\n",
            "19/19 [==============================] - 12s 653ms/step - loss: 0.1751 - accuracy: 0.9331 - val_loss: 0.2282 - val_accuracy: 0.9052\n",
            "Epoch 30/30\n",
            "19/19 [==============================] - 12s 659ms/step - loss: 0.2016 - accuracy: 0.9240 - val_loss: 0.2449 - val_accuracy: 0.9150\n"
          ],
          "name": "stdout"
        }
      ]
    },
    {
      "cell_type": "code",
      "metadata": {
        "colab": {
          "base_uri": "https://localhost:8080/"
        },
        "id": "kKlQ1DAp6p2y",
        "outputId": "4995b189-6b37-4c07-9f2b-8ed489118f99"
      },
      "source": [
        "history.history.keys()"
      ],
      "execution_count": 18,
      "outputs": [
        {
          "output_type": "execute_result",
          "data": {
            "text/plain": [
              "dict_keys(['loss', 'accuracy', 'val_loss', 'val_accuracy'])"
            ]
          },
          "metadata": {
            "tags": []
          },
          "execution_count": 18
        }
      ]
    },
    {
      "cell_type": "code",
      "metadata": {
        "colab": {
          "base_uri": "https://localhost:8080/",
          "height": 312
        },
        "id": "Ql369tQp7_DU",
        "outputId": "f0e5032e-f64f-4a7a-f579-36c8f0623a0b"
      },
      "source": [
        "plt.plot(history.history['loss'])\r\n",
        "plt.plot(history.history['val_loss'])\r\n",
        "plt.legend(['training','validation'])\r\n",
        "plt.title('Training and Validation Loss')\r\n",
        "plt.xlabel('epoch')"
      ],
      "execution_count": 19,
      "outputs": [
        {
          "output_type": "execute_result",
          "data": {
            "text/plain": [
              "Text(0.5, 0, 'epoch')"
            ]
          },
          "metadata": {
            "tags": []
          },
          "execution_count": 19
        },
        {
          "output_type": "display_data",
          "data": {
            "image/png": "[encoded data removed]",
            "text/plain": [
              "<Figure size 432x288 with 1 Axes>"
            ]
          },
          "metadata": {
            "tags": [],
            "needs_background": "light"
          }
        }
      ]
    },
    {
      "cell_type": "code",
      "metadata": {
        "colab": {
          "base_uri": "https://localhost:8080/",
          "height": 312
        },
        "id": "uTUDxGz59qI1",
        "outputId": "aefae719-6184-4ff0-cb44-988a7cbe9e36"
      },
      "source": [
        "plt.plot(history.history['accuracy'])\r\n",
        "plt.plot(history.history['val_accuracy'])\r\n",
        "plt.legend(['training','validation'])\r\n",
        "plt.title('Training and Validation Accuracy')\r\n",
        "plt.xlabel('epochs')"
      ],
      "execution_count": 20,
      "outputs": [
        {
          "output_type": "execute_result",
          "data": {
            "text/plain": [
              "Text(0.5, 0, 'epochs')"
            ]
          },
          "metadata": {
            "tags": []
          },
          "execution_count": 20
        },
        {
          "output_type": "display_data",
          "data": {
            "image/png": "[encoded data removed]",
            "text/plain": [
              "<Figure size 432x288 with 1 Axes>"
            ]
          },
          "metadata": {
            "tags": [],
            "needs_background": "light"
          }
        }
      ]
    },
    {
      "cell_type": "code",
      "metadata": {
        "colab": {
          "base_uri": "https://localhost:8080/"
        },
        "id": "lzhZItuZ-CM7",
        "outputId": "d5fd6f09-c5e5-4dc8-c294-bf83b3e38f6c"
      },
      "source": [
        "test_loss, test_acc = model.evaluate(test_generator)\r\n",
        "print('test_loss:{} test_acc:{}'.format(test_loss,test_acc))"
      ],
      "execution_count": 21,
      "outputs": [
        {
          "output_type": "stream",
          "text": [
            "4/4 [==============================] - 1s 268ms/step - loss: 0.1883 - accuracy: 0.8900\n",
            "test_loss:0.18825913965702057 test_acc:0.8899999856948853\n"
          ],
          "name": "stdout"
        }
      ]
    },
    {
      "cell_type": "code",
      "metadata": {
        "colab": {
          "resources": {
            "http://localhost:8080/nbextensions/google.colab/files.js": {
              "data": "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",
              "ok": true,
              "headers": [
                [
                  "content-type",
                  "application/javascript"
                ]
              ],
              "status": 200,
              "status_text": ""
            }
          },
          "base_uri": "https://localhost:8080/",
          "height": 241
        },
        "id": "wInxIFn1_AYf",
        "outputId": "07f8464d-b417-4d74-e181-2244daf1611a"
      },
      "source": [
        "from google.colab import files\r\n",
        "from keras.preprocessing import image\r\n",
        "uploaded = files.upload()\r\n",
        "for fname in uploaded.keys():\r\n",
        "  img_path='/content/'+fname\r\n",
        "  img=image.load_img(img_path, target_size=(150,150))\r\n",
        "  images=image.img_to_array(img)\r\n",
        "  images=np.expand_dims(images, axis=0)\r\n",
        "  prediction=model.predict(images)\r\n",
        "  print(fname)\r\n",
        "  if prediction == 0:\r\n",
        "    print('Mask')\r\n",
        "  else:\r\n",
        "    print('No Mask')"
      ],
      "execution_count": 25,
      "outputs": [
        {
          "output_type": "display_data",
          "data": {
            "text/html": [
              "\n",
              "     <input type=\"file\" id=\"files-bf6f9d7c-f96e-44fd-8044-e313f40f8242\" name=\"files[]\" multiple disabled\n",
              "        style=\"border:none\" />\n",
              "     <output id=\"result-bf6f9d7c-f96e-44fd-8044-e313f40f8242\">\n",
              "      Upload widget is only available when the cell has been executed in the\n",
              "      current browser session. Please rerun this cell to enable.\n",
              "      </output>\n",
              "      <script src=\"/nbextensions/google.colab/files.js\"></script> "
            ],
            "text/plain": [
              "<IPython.core.display.HTML object>"
            ]
          },
          "metadata": {
            "tags": []
          }
        },
        {
          "output_type": "stream",
          "text": [
            "Saving suprised-man.jpg to suprised-man.jpg\n",
            "Saving 960x0 (1).jpg to 960x0 (1).jpg\n",
            "Saving 960x0.jpg to 960x0.jpg\n",
            "suprised-man.jpg\n",
            "No Mask\n",
            "960x0 (1).jpg\n",
            "Mask\n",
            "960x0.jpg\n",
            "Mask\n"
          ],
          "name": "stdout"
        }
      ]
    },
    {
      "cell_type": "code",
      "metadata": {
        "id": "Vq3hZVqaEeSg"
      },
      "source": [
        "model.save('model.h5')"
      ],
      "execution_count": 23,
      "outputs": []
    }
  ]
}